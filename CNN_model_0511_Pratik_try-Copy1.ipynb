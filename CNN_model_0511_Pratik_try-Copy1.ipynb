{
 "cells": [
  {
   "cell_type": "code",
   "execution_count": 1,
   "id": "a219fc42",
   "metadata": {},
   "outputs": [
    {
     "name": "stderr",
     "output_type": "stream",
     "text": [
      "Using TensorFlow backend.\n"
     ]
    }
   ],
   "source": [
    "import numpy as np\n",
    "import os\n",
    "import sys\n",
    "import seaborn as sns\n",
    "import matplotlib.pylab as plt\n",
    "import math\n",
    "from pathlib import Path # Python >= 3.5, for folder creation\n",
    "import random # Random seed\n",
    "from tqdm import tqdm # Progress bar in for loop\n",
    "\n",
    "# Tensorflow\n",
    "import tensorflow as tf\n",
    "\n",
    "from tensorflow.keras.layers import Dense, Flatten, Conv2D\n",
    "from tensorflow.keras import Model\n",
    "# from keras.layers import Dense, Flatten, Conv2D\n",
    "# # from tensorflow.keras import Model\n",
    "from keras.models import Sequential,Model\n",
    "from tensorflow.keras.utils import to_categorical\n",
    "from scipy.interpolate import NearestNDInterpolator"
   ]
  },
  {
   "cell_type": "markdown",
   "id": "f2cfd4be",
   "metadata": {},
   "source": [
    "# Part 1: Data Preprocessing"
   ]
  },
  {
   "cell_type": "code",
   "execution_count": 2,
   "id": "da18a539",
   "metadata": {},
   "outputs": [],
   "source": [
    "# Input: Stationary and nonstationary generated data\n",
    "#          Stationary files are located in directory_in_str_locs_stationary (locations) \n",
    "#          and directory_in_str_z_stationary (observed values)\n",
    "# \n",
    "#          File names: LOC_3600_sample_1.txt, LOC_3600_sample_2.txt, ... (locations)\n",
    "#                      Z_3600_sample_1.txt, Z_3600_sample_2.txt, ... (observed values)\n",
    "# \n",
    "#          Format examples: \n",
    "#          LOC_3600_sample_1.txt:         Z_3600_sample_1.txt\n",
    "#          0.012863,0.006928              1.264426\n",
    "#          0.019715,0.003342              -0.526158\n",
    "#          ...                            ...\n",
    "# \n",
    "#          step_size: Step for jumping the plot. \n",
    "#                     When step_size = 10, the notebook plots preprocessed data for number 0, 10, 20, ...\n",
    "# \n",
    "# Output: npz files containing preprocessed data inside save_data_string\n",
    "#         plots of the preprocessed data inside save_fig_string"
   ]
  },
  {
   "cell_type": "markdown",
   "id": "8af01157",
   "metadata": {},
   "source": [
    "# Inputs"
   ]
  },
  {
   "cell_type": "code",
   "execution_count": 3,
   "id": "a2ef40d6",
   "metadata": {},
   "outputs": [],
   "source": [
    "# Folder places and filenames\n",
    "# Stationary\n",
    "directory_in_str_locs_stationary = \"D:/Research2021-C/Pratik项目/0511Pratik_Data/stationary_data/\"\n",
    "directory_in_str_z_stationary = \"D:/Research2021-C/Pratik项目/0511Pratik_Data/stationary_data/\"\n",
    "locs_string_stationary = \"LOC_20000_univariate_matern_stationary_\" # LOC_3600_sample_1.txt, LOC_3600_sample_2.txt, ...\n",
    "z_string_stationary = \"Z1_20000_univariate_matern_stationary_\" # Z_3600_sample_1.txt, Z_3600_sample_2.txt, ...\n",
    "# Nonstationary\n",
    "directory_in_str_locs_nonstationary = \"D:/Research2021-C/Pratik项目/0511Pratik_Data/nonstationary_data/\"\n",
    "directory_in_str_z_nonstationary = \"D:/Research2021-C/Pratik项目/0511Pratik_Data/nonstationary_data/\"\n",
    "locs_string_nonstationary = \"LOC_20000_univariate_matern_non_stat_estimation_\"\n",
    "z_string_nonstationary = \"Z1_20000_univariate_matern_non_stat_estimation_\""
   ]
  },
  {
   "cell_type": "code",
   "execution_count": 4,
   "id": "e95db1c8",
   "metadata": {},
   "outputs": [],
   "source": [
    "# Saving places\n",
    "save_data_string = \"D:/Research2021-C/Pratik项目/0511Processed_Data/\"\n",
    "save_fig_string = \"D:/Research2021-C/Pratik项目/0511Processed_Data/Plots/\""
   ]
  },
  {
   "cell_type": "code",
   "execution_count": 5,
   "id": "0d06d325",
   "metadata": {},
   "outputs": [],
   "source": [
    "# Saving names for the npz\n",
    "npzfilename_stationary = \"Dat_stationary_0511Pratik.npz\";\n",
    "npzfilename_nonstationary = \"Dat_nonstationary_0511Pratik.npz\";"
   ]
  },
  {
   "cell_type": "code",
   "execution_count": 6,
   "id": "34f00e4b",
   "metadata": {},
   "outputs": [],
   "source": [
    "# Step for jumping the plot. step_size=10: plot number 0, 10, 20, and so on. \n",
    "step_size = 100; # Step for jumping the plot. step_size=10: plot number 0, 10, 20, and so on. "
   ]
  },
  {
   "cell_type": "code",
   "execution_count": 7,
   "id": "1edf59d1",
   "metadata": {},
   "outputs": [],
   "source": [
    "# Valid for both stationary and nonstationary data. \n",
    "# If the range of locations are determined manually\n",
    "manual_range_locs = False\n",
    "# If the range of observations are determined manually\n",
    "manual_range_z = False"
   ]
  },
  {
   "cell_type": "code",
   "execution_count": 8,
   "id": "3c912da9",
   "metadata": {},
   "outputs": [],
   "source": [
    "# Range of locations when manual_range_locs = True\n",
    "if manual_range_locs == True:\n",
    "    startx = 0\n",
    "    endx = 1\n",
    "    starty = 0\n",
    "    endy = 1"
   ]
  },
  {
   "cell_type": "code",
   "execution_count": 9,
   "id": "16b0cf1d",
   "metadata": {},
   "outputs": [],
   "source": [
    "# Range of observations when manual_range_z = True\n",
    "if manual_range_z == True:\n",
    "    m = 0\n",
    "    M = 1 # The range of observations is [m, M]. "
   ]
  },
  {
   "cell_type": "code",
   "execution_count": 10,
   "id": "089d0390",
   "metadata": {},
   "outputs": [],
   "source": [
    "# Places for location saving\n",
    "model_saving_location = 'D:/Research2021-C/Pratik项目/0511Processed_Data/Model/Model_Example'"
   ]
  },
  {
   "cell_type": "markdown",
   "id": "483757a5",
   "metadata": {},
   "source": [
    "# Statioanry data preprocessing"
   ]
  },
  {
   "cell_type": "code",
   "execution_count": 11,
   "id": "12a139d5",
   "metadata": {},
   "outputs": [],
   "source": [
    "# Initialization \n",
    "directory_in_str_locs = directory_in_str_locs_stationary\n",
    "directory_in_str_z = directory_in_str_z_stationary\n",
    "locs_string = locs_string_stationary\n",
    "z_string = z_string_stationary"
   ]
  },
  {
   "cell_type": "code",
   "execution_count": 12,
   "id": "088cde2a",
   "metadata": {},
   "outputs": [],
   "source": [
    "directory_locs = os.fsencode(directory_in_str_locs)\n",
    "data_files_locs = os.listdir(directory_locs)"
   ]
  },
  {
   "cell_type": "code",
   "execution_count": 13,
   "id": "6aa0ea3a",
   "metadata": {},
   "outputs": [],
   "source": [
    "# list of filename\n",
    "loc_files = [f for f in os.listdir(directory_in_str_locs_stationary) if f.startswith(locs_string_stationary)]"
   ]
  },
  {
   "cell_type": "code",
   "execution_count": 14,
   "id": "daf7de55",
   "metadata": {},
   "outputs": [],
   "source": [
    "# Grid row and column\n",
    "GRID_ROWS = 100\n",
    "GRID_COLS = 100\n",
    "\n",
    "# Initialization continued\n",
    "ndata = len(loc_files)\n",
    "#ndata = 100 # Test\n",
    "stationary_x_train = np.zeros((ndata,GRID_COLS,GRID_ROWS))\n",
    "\n",
    "stationary_y_train = np.zeros(ndata) # Zero = the model is stationary. One = nonstationary. "
   ]
  },
  {
   "cell_type": "code",
   "execution_count": 15,
   "id": "9b08ac81",
   "metadata": {},
   "outputs": [],
   "source": [
    "# Initialization continued\n",
    "param_val_is_stat = 1;\n",
    "npzfilename = npzfilename_stationary;"
   ]
  },
  {
   "cell_type": "code",
   "execution_count": 16,
   "id": "31493d45",
   "metadata": {},
   "outputs": [],
   "source": [
    "# Initialization continued\n",
    "param_is_stat = np.ones(ndata)\n",
    "#param_samplenum.fill(param_val_samplenum)\n",
    "param_is_stat.fill(param_val_is_stat)\n",
    "\n",
    "param_list = []"
   ]
  },
  {
   "cell_type": "code",
   "execution_count": 17,
   "id": "81fbf2bc",
   "metadata": {},
   "outputs": [
    {
     "data": {
      "text/plain": [
       "1462"
      ]
     },
     "execution_count": 17,
     "metadata": {},
     "output_type": "execute_result"
    }
   ],
   "source": [
    "ndata"
   ]
  },
  {
   "cell_type": "code",
   "execution_count": 18,
   "id": "30dad01a",
   "metadata": {},
   "outputs": [
    {
     "name": "stderr",
     "output_type": "stream",
     "text": [
      "100%|██████████| 1462/1462 [04:45<00:00,  5.12it/s]\n"
     ]
    }
   ],
   "source": [
    "# Main program for data preprocessing\n",
    "for i in tqdm(range(ndata)):\n",
    "    # Append the parameter to samples. \n",
    "    param_dict = {\n",
    "        \"sample\": i,\n",
    "        \"is_stat\": param_val_is_stat\n",
    "    }\n",
    "    param_list.append(param_dict)\n",
    "    #==========\n",
    "    # Data extraction\n",
    "    #===========\n",
    "    # Get location and observation files for each subsample\n",
    "    loc_text = loc_files[i]\n",
    "    z_text = loc_text.replace(locs_string, z_string, 1)\n",
    "    # Load the location and z files\n",
    "    location_file = open(directory_in_str_locs + loc_text)\n",
    "    Z_value_file = open(directory_in_str_z + z_text)\n",
    "#     print(location_file)\n",
    "    locations = np.loadtxt(location_file, delimiter=',')\n",
    "    Z_values = np.loadtxt(Z_value_file, delimiter=',')\n",
    "    #==========\n",
    "    # End of data extraction\n",
    "    #==========\n",
    "    # Compute the output grid\n",
    "    output_arr = np.zeros((GRID_ROWS,GRID_COLS))\n",
    "    grid_sum_arr = np.zeros((GRID_ROWS,GRID_COLS))\n",
    "    grid_div_arr = np.zeros((GRID_ROWS,GRID_COLS))\n",
    "    if manual_range_locs == False:\n",
    "        # Start and end locations (Auto)\n",
    "#         print(locations[:,0],locations[:,1])\n",
    "        startx = min(locations[:, 0])\n",
    "        starty = min(locations[:, 1])\n",
    "        endx = max(locations[:, 0])\n",
    "        endy = max(locations[:, 1])\n",
    "#     print(locations)\n",
    "    locations[:,0] = (locations[:, 0] - startx)/(endx - startx)\n",
    "    locations[:,1] = (locations[:, 1] - starty)/(endy - starty)\n",
    "#     print(locations)\n",
    "    \n",
    "    X = np.linspace(0, 1,GRID_COLS)\n",
    "    Y = np.linspace(0, 1,GRID_ROWS)\n",
    "    X, Y = np.meshgrid(X, Y)  # 2D grid for interpolation\n",
    "    interp = NearestNDInterpolator(locations, Z_values)\n",
    "    Z = interp(X, Y)\n",
    "#     break\n",
    "#     # Get the summation and division\n",
    "#     for j in range(locations.shape[0]):\n",
    "#         # Get the grid locations (x, y). Result: [y][x], because x is column (x=0 is the first column). \n",
    "#         x = int(math.floor((locations[j][0] - startx) * GRID_COLS / (endx - startx)))\n",
    "#         y = int(math.floor((locations[j][1] - starty) * GRID_ROWS / (endy - starty)))\n",
    "#         # For boundary value problems\n",
    "#         x = min(x, GRID_COLS - 1)\n",
    "#         y = min(y, GRID_ROWS - 1)\n",
    "#         val = Z_values[j]\n",
    "#         # Add the summation and division\n",
    "#         grid_sum_arr[y][x] = grid_sum_arr[y][x] + val\n",
    "#         grid_div_arr[y][x] += 1\n",
    "#     # Generate output\n",
    "#     for j1 in range(GRID_ROWS):\n",
    "#         for j2 in range(GRID_COLS):\n",
    "#             if grid_div_arr[j1][j2] > 0:\n",
    "#                 # Mean value in a cell\n",
    "#                 output_arr[j1][j2] += (grid_sum_arr[j1][j2] / grid_div_arr[j1][j2])\n",
    "#             else:\n",
    "#                 # Mean value over all regions if the cell has no locations\n",
    "#                 output_arr[j1][j2] += np.mean(Z_values)\n",
    "    if manual_range_z == False:\n",
    "        # Normalize (Auto)\n",
    "        m = np.min(Z)\n",
    "        M = np.max(Z)\n",
    "    if m == M:\n",
    "        Z = np.ones((GRID_ROWS,GRID_COLS)) * 0.5 # All 0.5\n",
    "    else: \n",
    "        # Range from 0 to 1. \n",
    "        Z = (Z - m) / (M - m)\n",
    "    # Save results\n",
    "    stationary_x_train[i] = Z"
   ]
  },
  {
   "cell_type": "code",
   "execution_count": 19,
   "id": "453a2685",
   "metadata": {},
   "outputs": [],
   "source": [
    "# Save to file\n",
    "nparams = np.array(param_list)\n",
    "Path(save_data_string).mkdir(parents=True, exist_ok=True)\n",
    "np.savez( save_data_string + npzfilename, x = stationary_x_train, y = stationary_y_train, params = nparams)"
   ]
  },
  {
   "cell_type": "code",
   "execution_count": 20,
   "id": "452194ce",
   "metadata": {},
   "outputs": [
    {
     "name": "stderr",
     "output_type": "stream",
     "text": [
      "100%|██████████| 15/15 [00:03<00:00,  4.02it/s]\n"
     ]
    }
   ],
   "source": [
    "Path(save_fig_string).mkdir(parents=True, exist_ok=True)\n",
    "for i in tqdm(range(0 , len(loc_files) , int(step_size))):\n",
    "#for i in tqdm(range(0, 100, int(step_size))): \n",
    "    plt.figure()\n",
    "    ax = sns.heatmap( stationary_x_train[i] , linewidth=0)\n",
    "    plt.savefig(save_fig_string + npzfilename + loc_files[i] +\".png\")\n",
    "    plt.close()"
   ]
  },
  {
   "cell_type": "code",
   "execution_count": 21,
   "id": "d2ea56bd",
   "metadata": {},
   "outputs": [
    {
     "data": {
      "text/plain": [
       "<AxesSubplot:>"
      ]
     },
     "execution_count": 21,
     "metadata": {},
     "output_type": "execute_result"
    },
    {
     "data": {
      "image/png": "[encoded data removed]",
      "text/plain": [
       "<Figure size 432x288 with 2 Axes>"
      ]
     },
     "metadata": {
      "needs_background": "light"
     },
     "output_type": "display_data"
    }
   ],
   "source": [
    "sns.heatmap( stationary_x_train[2] , linewidth=0)"
   ]
  },
  {
   "cell_type": "markdown",
   "id": "1b6e5fd7",
   "metadata": {},
   "source": [
    "# Nonstationary data preprocessing"
   ]
  },
  {
   "cell_type": "code",
   "execution_count": 18,
   "id": "1810ba25",
   "metadata": {},
   "outputs": [],
   "source": [
    "# Initialization \n",
    "directory_in_str_locs = directory_in_str_locs_nonstationary\n",
    "directory_in_str_z = directory_in_str_z_nonstationary\n",
    "locs_string = locs_string_nonstationary\n",
    "z_string = z_string_nonstationary"
   ]
  },
  {
   "cell_type": "code",
   "execution_count": 19,
   "id": "f87c0164",
   "metadata": {},
   "outputs": [],
   "source": [
    "directory_locs = os.fsencode(directory_in_str_locs)\n",
    "data_files_locs = os.listdir(directory_locs)"
   ]
  },
  {
   "cell_type": "code",
   "execution_count": 20,
   "id": "04923c3f",
   "metadata": {},
   "outputs": [],
   "source": [
    "# list of filename\n",
    "loc_files = [f for f in os.listdir(directory_in_str_locs_nonstationary) if f.startswith(locs_string_nonstationary)]"
   ]
  },
  {
   "cell_type": "code",
   "execution_count": 21,
   "id": "be53194b",
   "metadata": {},
   "outputs": [],
   "source": [
    "# Grid row and column\n",
    "GRID_ROWS = 100\n",
    "GRID_COLS = 100\n",
    "\n",
    "# Initialization continued\n",
    "ndata = len(loc_files)\n",
    "#ndata = 100 # Test\n",
    "nonstationary_x_train = np.zeros((ndata,GRID_COLS,GRID_ROWS))\n",
    "\n",
    "nonstationary_y_train = np.ones(ndata) # Zero = the model is stationary. One = nonstationary. "
   ]
  },
  {
   "cell_type": "code",
   "execution_count": 22,
   "id": "4ae7d323",
   "metadata": {},
   "outputs": [],
   "source": [
    "# Initialization continued\n",
    "param_is_stat = np.ones(ndata)\n",
    "#param_samplenum.fill(param_val_samplenum)\n",
    "param_val_is_stat = 0; # Nonstationary. \n",
    "param_is_stat.fill(param_val_is_stat)\n",
    "\n",
    "param_list = []"
   ]
  },
  {
   "cell_type": "code",
   "execution_count": 23,
   "id": "bfe18fbb",
   "metadata": {},
   "outputs": [],
   "source": [
    "# Initialization continued\n",
    "npzfilename = npzfilename_nonstationary;"
   ]
  },
  {
   "cell_type": "code",
   "execution_count": 28,
   "id": "6b9d70cc",
   "metadata": {},
   "outputs": [
    {
     "name": "stderr",
     "output_type": "stream",
     "text": [
      "100%|██████████| 504/504 [01:40<00:00,  5.04it/s]\n"
     ]
    }
   ],
   "source": [
    "# Main program for data preprocessing\n",
    "for i in tqdm(range(ndata)):\n",
    "    # Append the parameter to samples. \n",
    "    param_dict = {\n",
    "        \"sample\": i,\n",
    "        \"is_stat\": param_val_is_stat\n",
    "    }\n",
    "    param_list.append(param_dict)\n",
    "    #==========\n",
    "    # Data extraction\n",
    "    #===========\n",
    "    # Get paired location and observation files\n",
    "#     print(loc_files[i])\n",
    "    loc_text = loc_files[i]\n",
    "    z_text = loc_text.replace(locs_string, z_string, 1)\n",
    "    # Load the location and z files\n",
    "    location_file = open(directory_in_str_locs + loc_text)\n",
    "    Z_value_file = open(directory_in_str_z + z_text)\n",
    "    locations = np.loadtxt(location_file, delimiter=',')\n",
    "    Z_values = np.loadtxt(Z_value_file, delimiter=',')\n",
    "    #==========\n",
    "    # End of data extraction\n",
    "    #==========\n",
    "    # Check if there is NaN value\n",
    "    if any(np.isnan(Z_values)) == True:\n",
    "        print(\"Warning: NaN values occur in i=\", i, \"; location file:\", loc_text)\n",
    "        Z_values[np.isnan(Z_values)] = 0\n",
    "    # Compute the output grid\n",
    "    output_arr = np.zeros((GRID_ROWS,GRID_COLS))\n",
    "    grid_sum_arr = np.zeros((GRID_ROWS,GRID_COLS))\n",
    "    grid_div_arr = np.zeros((GRID_ROWS,GRID_COLS))\n",
    "    if manual_range_locs == False:\n",
    "        # Start and end locations (Auto)\n",
    "#         print(locations[:,0],locations[:,1])\n",
    "        startx = min(locations[:, 0])\n",
    "        starty = min(locations[:, 1])\n",
    "        endx = max(locations[:, 0])\n",
    "        endy = max(locations[:, 1])\n",
    "#     print(locations)\n",
    "    locations[:,0] = (locations[:, 0] - startx)/(endx - startx)\n",
    "    locations[:,1] = (locations[:, 1] - starty)/(endy - starty)\n",
    "#     print(locations)\n",
    "    \n",
    "    X = np.linspace(0, 1,GRID_COLS)\n",
    "    Y = np.linspace(0, 1,GRID_ROWS)\n",
    "    X, Y = np.meshgrid(X, Y)  # 2D grid for interpolation\n",
    "    interp = NearestNDInterpolator(locations, Z_values)\n",
    "    Z = interp(X, Y)\n",
    "#     break\n",
    "#     # Get the summation and division\n",
    "#     for j in range(locations.shape[0]):\n",
    "#         # Get the grid locations (x, y). Result: [y][x], because x is column (x=0 is the first column). \n",
    "#         x = int(math.floor((locations[j][0] - startx) * GRID_COLS / (endx - startx)))\n",
    "#         y = int(math.floor((locations[j][1] - starty) * GRID_ROWS / (endy - starty)))\n",
    "#         # For boundary value problems\n",
    "#         x = min(x, GRID_COLS - 1)\n",
    "#         y = min(y, GRID_ROWS - 1)\n",
    "#         val = Z_values[j]\n",
    "#         # Add the summation and division\n",
    "#         grid_sum_arr[y][x] = grid_sum_arr[y][x] + val\n",
    "#         grid_div_arr[y][x] += 1\n",
    "#     # Generate output\n",
    "#     for j1 in range(GRID_ROWS):\n",
    "#         for j2 in range(GRID_COLS):\n",
    "#             if grid_div_arr[j1][j2] > 0:\n",
    "#                 # Mean value in a cell\n",
    "#                 output_arr[j1][j2] += (grid_sum_arr[j1][j2] / grid_div_arr[j1][j2])\n",
    "#             else:\n",
    "#                 # Mean value over all regions if the cell has no locations\n",
    "#                 output_arr[j1][j2] += np.mean(Z_values)\n",
    "    if manual_range_z == False:\n",
    "        # Normalize (Auto)\n",
    "        m = np.min(Z)\n",
    "        M = np.max(Z)\n",
    "    if m == M:\n",
    "        Z = np.ones((GRID_ROWS,GRID_COLS)) * 0.5 # All 0.5\n",
    "    else: \n",
    "        # Range from 0 to 1. \n",
    "        Z = (Z - m) / (M - m)\n",
    "    # Save results\n",
    "    nonstationary_x_train[i] = Z"
   ]
  },
  {
   "cell_type": "code",
   "execution_count": 29,
   "id": "4437ed22",
   "metadata": {},
   "outputs": [],
   "source": [
    "# Save to file\n",
    "nparams = np.array(param_list)\n",
    "Path(save_data_string).mkdir(parents=True, exist_ok=True)\n",
    "np.savez( save_data_string + npzfilename, x = nonstationary_x_train, y = nonstationary_y_train, params = nparams)"
   ]
  },
  {
   "cell_type": "code",
   "execution_count": 30,
   "id": "ebce70a1",
   "metadata": {},
   "outputs": [
    {
     "name": "stderr",
     "output_type": "stream",
     "text": [
      "100%|██████████| 6/6 [00:01<00:00,  3.96it/s]\n"
     ]
    }
   ],
   "source": [
    "Path(save_fig_string).mkdir(parents=True, exist_ok=True)\n",
    "for i in tqdm(range(0 , len(loc_files) , int(step_size))):\n",
    "#for i in tqdm(range(0, 100, int(step_size))): \n",
    "    plt.figure()\n",
    "    ax = sns.heatmap( nonstationary_x_train[i] , linewidth=0)\n",
    "    plt.savefig(save_fig_string + npzfilename + loc_files[i] +\".png\")\n",
    "    plt.close()"
   ]
  },
  {
   "cell_type": "markdown",
   "id": "32267a63",
   "metadata": {},
   "source": [
    "# Part 2: CNN Model Training"
   ]
  },
  {
   "cell_type": "code",
   "execution_count": 31,
   "id": "945c25cc",
   "metadata": {},
   "outputs": [],
   "source": [
    "# Train the CNN model that can determine whether a spatial data is stationary. \n",
    "# Input: \n",
    "#    Preprocessed data in npz format: stationary_npz_filename (stationary) and nonstationary_npz_filename (nonstationary). \n",
    "# \n",
    "#    Location for saving the CNN model: model_saving_location. \n",
    "# \n",
    "#    Split rate: split_size_stationary (stationary) and split_size_nonstationary (nonstationary). \n",
    "#                The training data will be split following the split size. \n",
    "#                For instance, when split_size_stationary = 0.8, \n",
    "#                then 80% stationary data is the training data, and the rest 20% are the test data. \n",
    "# \n",
    "# Output: \n",
    "#    Trained CNN model saved in model_saving_location. \n",
    "#    Histogram and outlines for the correct rate of the CNN training model. "
   ]
  },
  {
   "cell_type": "markdown",
   "id": "6f2f170e",
   "metadata": {},
   "source": [
    "# Inputs"
   ]
  },
  {
   "cell_type": "code",
   "execution_count": 24,
   "id": "9b10468a",
   "metadata": {},
   "outputs": [],
   "source": [
    "# Filename for preprocessing data (.npz format)\n",
    "stationary_npz_filename = save_data_string + npzfilename_stationary\n",
    "nonstationary_npz_filename = save_data_string + npzfilename_nonstationary"
   ]
  },
  {
   "cell_type": "code",
   "execution_count": 25,
   "id": "ba465f77",
   "metadata": {},
   "outputs": [],
   "source": [
    "# Split rate for stationary data\n",
    "split_size_stationary = 0.8\n",
    "# Split rate for nonstationary data\n",
    "split_size_nonstationary = 0.8"
   ]
  },
  {
   "cell_type": "markdown",
   "id": "d39f189a",
   "metadata": {},
   "source": [
    "# Loading Data"
   ]
  },
  {
   "cell_type": "code",
   "execution_count": 26,
   "id": "ffc13616",
   "metadata": {},
   "outputs": [
    {
     "name": "stdout",
     "output_type": "stream",
     "text": [
      "(1462, 100, 100)\n"
     ]
    }
   ],
   "source": [
    "# Stationary data - load npz file\n",
    "npzfile = np.load(stationary_npz_filename, allow_pickle=True)\n",
    "stationary_x_all = npzfile['x'] # Preprocessed data\n",
    "stationary_y_all = npzfile['y'] # Stationary or nonstationary\n",
    "stationary_params = npzfile['params']\n",
    "print(stationary_x_all.shape)"
   ]
  },
  {
   "cell_type": "code",
   "execution_count": 27,
   "id": "dd88d38f",
   "metadata": {},
   "outputs": [
    {
     "name": "stdout",
     "output_type": "stream",
     "text": [
      "(504, 100, 100)\n"
     ]
    }
   ],
   "source": [
    "# Nonstationary data - load npz file\n",
    "npzfile = np.load(nonstationary_npz_filename, allow_pickle=True)\n",
    "tx = npzfile['x']\n",
    "nonstationary_x_all = npzfile['x'] # Preprocessed data\n",
    "nonstationary_y_all = npzfile['y'] # Stationary or nonstationary\n",
    "nonstationary_params = npzfile['params']\n",
    "print(nonstationary_x_all.shape)"
   ]
  },
  {
   "cell_type": "markdown",
   "id": "9669e785",
   "metadata": {},
   "source": [
    "# Randomising and Splitting Data"
   ]
  },
  {
   "cell_type": "code",
   "execution_count": 28,
   "id": "95a09403",
   "metadata": {},
   "outputs": [
    {
     "name": "stdout",
     "output_type": "stream",
     "text": [
      "1169\n",
      "293\n",
      "403\n",
      "101\n"
     ]
    }
   ],
   "source": [
    "# Split for stationary data\n",
    "total_size_stationary = int(len(stationary_x_all))\n",
    "training_size_stationary = int(total_size_stationary * split_size_stationary)\n",
    "test_size_stationary = total_size_stationary - training_size_stationary\n",
    "print(training_size_stationary)\n",
    "print(test_size_stationary)\n",
    "\n",
    "# Split for nonstationary data\n",
    "total_size_nonstationary = int(len(nonstationary_x_all))\n",
    "training_size_nonstationary = int(total_size_nonstationary * split_size_nonstationary)\n",
    "test_size_nonstationary = total_size_nonstationary - training_size_nonstationary\n",
    "print(training_size_nonstationary)\n",
    "print(test_size_nonstationary)"
   ]
  },
  {
   "cell_type": "code",
   "execution_count": 29,
   "id": "4a6745db",
   "metadata": {},
   "outputs": [],
   "source": [
    "# Shuffler for stationary and nonstationary\n",
    "random.seed(220)\n",
    "shuffler_stationary = random.sample(range(total_size_stationary), total_size_stationary)\n",
    "shuffler_nonstationary = random.sample(range(total_size_nonstationary), total_size_nonstationary)"
   ]
  },
  {
   "cell_type": "code",
   "execution_count": 30,
   "id": "2f0b2f56",
   "metadata": {},
   "outputs": [],
   "source": [
    "# Shuffle data\n",
    "stationary_x_shuffled = stationary_x_all[shuffler_stationary, 0:GRID_ROWS, 0:GRID_COLS]\n",
    "stationary_y_shuffled = stationary_y_all[shuffler_stationary]\n",
    "stationary_params_shuffled = stationary_params[shuffler_stationary, ]\n",
    "nonstationary_x_shuffled = nonstationary_x_all[shuffler_nonstationary, 0:GRID_ROWS, 0:GRID_COLS]\n",
    "nonstationary_y_shuffled = nonstationary_y_all[shuffler_nonstationary]\n",
    "nonstationary_params_shuffled = nonstationary_params[shuffler_nonstationary, ]"
   ]
  },
  {
   "cell_type": "code",
   "execution_count": 31,
   "id": "14f5b2c0",
   "metadata": {},
   "outputs": [],
   "source": [
    "# List of shuffled file names - if someone wants copying files\n",
    "# Stationary\n",
    "loc_files = [f for f in os.listdir(directory_in_str_locs_stationary) if f.startswith(locs_string_stationary)]\n",
    "z_files = [f for f in os.listdir(directory_in_str_z_stationary) if f.startswith(z_string_stationary)]\n",
    "loc_files_stationary_shuffled = [loc_files[i] for i in shuffler_stationary]\n",
    "z_files_stationary_shuffled = [z_files[i] for i in shuffler_stationary]\n",
    "# Nonstationary\n",
    "loc_files = [f for f in os.listdir(directory_in_str_locs_nonstationary) if f.startswith(locs_string_nonstationary)]\n",
    "z_files = [f for f in os.listdir(directory_in_str_z_nonstationary) if f.startswith(z_string_nonstationary)]\n",
    "loc_files_nonstationary_shuffled = [loc_files[i] for i in shuffler_nonstationary]\n",
    "z_files_nonstationary_shuffled = [z_files[i] for i in shuffler_nonstationary]"
   ]
  },
  {
   "cell_type": "code",
   "execution_count": 32,
   "id": "078ef0b4",
   "metadata": {},
   "outputs": [],
   "source": [
    "# Copying files\n",
    "#loc_test_stationary_copyfolder = \"D:/Research2021-C/Pratik项目/0406Processed_Data/LOCS_Test_Stationary/\"\n",
    "#loc_test_nonstationary_copyfolder = \"D:/Research2021-C/Pratik项目/0406Processed_Data/LOCS_Test_Nonstationary/\"\n",
    "#z_test_stationary_copyfolder = \"D:/Research2021-C/Pratik项目/0406Processed_Data/Z_Test_Stationary/\"\n",
    "#z_test_nonstationary_copyfolder = \"D:/Research2021-C/Pratik项目/0406Processed_Data/Z_Test_Nonstationary/\"\n",
    "#Path(loc_test_stationary_copyfolder).mkdir(parents=True, exist_ok=True)\n",
    "#Path(loc_test_nonstationary_copyfolder).mkdir(parents=True, exist_ok=True)\n",
    "#Path(z_test_stationary_copyfolder).mkdir(parents=True, exist_ok=True)\n",
    "#Path(z_test_nonstationary_copyfolder).mkdir(parents=True, exist_ok=True)\n",
    "# List of files for copying (Test data only)\n",
    "#loc_test_files_stationary = loc_files_stationary_shuffled[training_size_stationary:]\n",
    "#loc_test_files_nonstationary = loc_files_nonstationary_shuffled[training_size_nonstationary:]\n",
    "#z_test_files_stationary = z_files_stationary_shuffled[training_size_stationary:]\n",
    "#z_test_files_nonstationary = z_files_nonstationary_shuffled[training_size_nonstationary:]"
   ]
  },
  {
   "cell_type": "code",
   "execution_count": 33,
   "id": "4ffd14d5",
   "metadata": {},
   "outputs": [],
   "source": [
    "#import shutil # copy files\n",
    "# Location files for stationary data\n",
    "#for i in tqdm(range(len(loc_test_files_stationary))):\n",
    "    # Get paired location and observation files\n",
    "    #loc_text = loc_test_files_stationary[i]\n",
    "    #loc_old_name = directory_in_str_locs_stationary + loc_text \n",
    "    #loc_new_name = loc_test_stationary_copyfolder + loc_text \n",
    "    # Copy\n",
    "    #shutil.copy(loc_old_name, loc_new_name)"
   ]
  },
  {
   "cell_type": "code",
   "execution_count": 34,
   "id": "16f6c5d3",
   "metadata": {},
   "outputs": [],
   "source": [
    "# Z files for stationary data\n",
    "#for i in tqdm(range(len(z_test_files_stationary))):\n",
    "    # Get paired location and observation files\n",
    "    #z_text = z_test_files_stationary[i]\n",
    "    #z_old_name = directory_in_str_z_stationary + z_text \n",
    "    #z_new_name = z_test_stationary_copyfolder + z_text \n",
    "    # Copy\n",
    "    #shutil.copy(z_old_name, z_new_name)"
   ]
  },
  {
   "cell_type": "code",
   "execution_count": 35,
   "id": "9e7ba370",
   "metadata": {},
   "outputs": [],
   "source": [
    "# Location files for nonstationary data\n",
    "#for i in tqdm(range(len(loc_test_files_nonstationary))):\n",
    "    # Get paired location and observation files\n",
    "    #loc_text = loc_test_files_nonstationary[i]\n",
    "    #loc_old_name = directory_in_str_locs_nonstationary + loc_text \n",
    "    #loc_new_name = loc_test_nonstationary_copyfolder + loc_text \n",
    "    # Copy\n",
    "    #shutil.copy(loc_old_name, loc_new_name)"
   ]
  },
  {
   "cell_type": "code",
   "execution_count": 36,
   "id": "c6778621",
   "metadata": {},
   "outputs": [],
   "source": [
    "# Z files for nonstationary data\n",
    "#for i in tqdm(range(len(z_test_files_nonstationary))):\n",
    "    # Get paired location and observation files\n",
    "    #z_text = z_test_files_nonstationary[i]\n",
    "    #z_old_name = directory_in_str_z_nonstationary + z_text \n",
    "    #z_new_name = z_test_nonstationary_copyfolder + z_text \n",
    "    # Copy\n",
    "    #shutil.copy(z_old_name, z_new_name)"
   ]
  },
  {
   "cell_type": "code",
   "execution_count": 37,
   "id": "b84be092",
   "metadata": {},
   "outputs": [],
   "source": [
    "# Training data\n",
    "stationary_x_train = stationary_x_shuffled[0:training_size_stationary, 0:GRID_ROWS, 0:GRID_COLS]\n",
    "stationary_y_train = stationary_y_shuffled[0:training_size_stationary]\n",
    "stationary_params_train = stationary_params_shuffled[0:training_size_stationary, ]\n",
    "nonstationary_x_train = nonstationary_x_shuffled[0:training_size_nonstationary, 0:GRID_ROWS, 0:GRID_COLS]\n",
    "nonstationary_y_train = nonstationary_y_shuffled[0:training_size_nonstationary]\n",
    "nonstationary_params_train = nonstationary_params_shuffled[0:training_size_nonstationary, ]\n",
    "# Test data\n",
    "stationary_x_test = stationary_x_shuffled[training_size_stationary:, 0:GRID_ROWS, 0:GRID_COLS]\n",
    "stationary_y_test = stationary_y_shuffled[training_size_stationary:]\n",
    "stationary_params_test = stationary_params_shuffled[training_size_stationary:, ]\n",
    "nonstationary_x_test = nonstationary_x_shuffled[training_size_nonstationary:, 0:GRID_ROWS, 0:GRID_COLS]\n",
    "nonstationary_y_test = nonstationary_y_shuffled[training_size_nonstationary:]\n",
    "nonstationary_params_test = nonstationary_params_shuffled[training_size_nonstationary:, ]\n",
    "# Combine\n",
    "x_train = np.concatenate((stationary_x_train,nonstationary_x_train))\n",
    "y_train = np.concatenate((stationary_y_train,nonstationary_y_train))\n",
    "params_train = np.concatenate((stationary_params_train,nonstationary_params_train))\n",
    "x_test = np.concatenate((stationary_x_test,nonstationary_x_test))\n",
    "y_test = np.concatenate((stationary_y_test,nonstationary_y_test))\n",
    "params_test = np.concatenate((stationary_params_test,nonstationary_params_test))"
   ]
  },
  {
   "cell_type": "code",
   "execution_count": 38,
   "id": "64cb6e99",
   "metadata": {},
   "outputs": [],
   "source": [
    "# Add a channels dimension\n",
    "#x_train = x_train[..., tf.newaxis].astype(\"float32\")\n",
    "#x_test = x_test[..., tf.newaxis].astype(\"float32\")\n",
    "x_train= x_train.reshape(1572,100,100,1)\n",
    "x_test=x_test.reshape(394,100,100,1)"
   ]
  },
  {
   "cell_type": "code",
   "execution_count": 39,
   "id": "502ca71f",
   "metadata": {},
   "outputs": [
    {
     "name": "stdout",
     "output_type": "stream",
     "text": [
      "(1572, 100, 100, 1)\n",
      "(394, 100, 100, 1)\n"
     ]
    }
   ],
   "source": [
    "print(x_train.shape)\n",
    "print(x_test.shape)"
   ]
  },
  {
   "cell_type": "markdown",
   "id": "1ea0f2a7",
   "metadata": {},
   "source": [
    "# Start training model"
   ]
  },
  {
   "cell_type": "code",
   "execution_count": 40,
   "id": "7734608f",
   "metadata": {},
   "outputs": [],
   "source": [
    "training_size = x_train.shape[0]\n",
    "train_ds = tf.data.Dataset.from_tensor_slices(\n",
    "    (x_train, y_train)).shuffle(training_size).batch(32)\n",
    "\n",
    "test_ds = tf.data.Dataset.from_tensor_slices((x_test, y_test)).batch(32)"
   ]
  },
  {
   "cell_type": "code",
   "execution_count": 41,
   "id": "7da97a04",
   "metadata": {},
   "outputs": [
    {
     "name": "stdout",
     "output_type": "stream",
     "text": [
      "<class 'tensorflow.python.data.ops.dataset_ops.BatchDataset'>\n"
     ]
    }
   ],
   "source": [
    "print(type(train_ds))"
   ]
  },
  {
   "cell_type": "markdown",
   "id": "b32129af",
   "metadata": {},
   "source": [
    "# Model"
   ]
  },
  {
   "cell_type": "code",
   "execution_count": 42,
   "id": "3365b9bf",
   "metadata": {},
   "outputs": [],
   "source": [
    "# Categorical: To two variables\n",
    "y_train = to_categorical(y_train)\n",
    "y_test = to_categorical(y_test)"
   ]
  },
  {
   "cell_type": "code",
   "execution_count": 43,
   "id": "5bc18589",
   "metadata": {},
   "outputs": [
    {
     "name": "stdout",
     "output_type": "stream",
     "text": [
      "Epoch 1/3\n",
      "25/25 - 19s - loss: 1.5956 - accuracy: 0.7576 - val_loss: 0.5844 - val_accuracy: 0.7437 - 19s/epoch - 740ms/step\n",
      "Epoch 2/3\n",
      "25/25 - 18s - loss: 0.1223 - accuracy: 0.9548 - val_loss: 0.0183 - val_accuracy: 1.0000 - 18s/epoch - 717ms/step\n",
      "Epoch 3/3\n",
      "25/25 - 18s - loss: 0.0046 - accuracy: 1.0000 - val_loss: 0.0016 - val_accuracy: 1.0000 - 18s/epoch - 735ms/step\n"
     ]
    },
    {
     "data": {
      "text/plain": [
       "<keras.callbacks.History at 0x25110eaddf0>"
      ]
     },
     "execution_count": 43,
     "metadata": {},
     "output_type": "execute_result"
    }
   ],
   "source": [
    "#create model\n",
    "\n",
    "model = Sequential()\n",
    "#add model layers\n",
    "model.add(Conv2D(64, kernel_size=3, activation=\"relu\", input_shape=(100, 100, 1)))\n",
    "model.add(Conv2D(32, kernel_size=3, activation=\"relu\"))\n",
    "model.add(Flatten())\n",
    "model.add(Dense(128, activation='relu'))\n",
    "model.add(Dense(2, activation='softmax'))\n",
    "\n",
    "#compile model using accuracy to measure model performance\n",
    "model.compile(optimizer='adam', loss='categorical_crossentropy', metrics=['accuracy'])\n",
    "\n",
    "#train the model\n",
    "model.fit(x_train, y_train, validation_data=(x_test, y_test), epochs=3, batch_size = 64, verbose = 2)"
   ]
  },
  {
   "cell_type": "code",
   "execution_count": 44,
   "id": "3f71d6ab",
   "metadata": {},
   "outputs": [
    {
     "name": "stdout",
     "output_type": "stream",
     "text": [
      "Model: \"sequential\"\n",
      "_________________________________________________________________\n",
      " Layer (type)                Output Shape              Param #   \n",
      "=================================================================\n",
      " conv2d (Conv2D)             (None, 98, 98, 64)        640       \n",
      "                                                                 \n",
      " conv2d_1 (Conv2D)           (None, 96, 96, 32)        18464     \n",
      "                                                                 \n",
      " flatten (Flatten)           (None, 294912)            0         \n",
      "                                                                 \n",
      " dense (Dense)               (None, 128)               37748864  \n",
      "                                                                 \n",
      " dense_1 (Dense)             (None, 2)                 258       \n",
      "                                                                 \n",
      "=================================================================\n",
      "Total params: 37,768,226\n",
      "Trainable params: 37,768,226\n",
      "Non-trainable params: 0\n",
      "_________________________________________________________________\n"
     ]
    }
   ],
   "source": [
    "# Summary of the model\n",
    "\n",
    "model.summary()"
   ]
  },
  {
   "cell_type": "code",
   "execution_count": 45,
   "id": "fc909a41",
   "metadata": {},
   "outputs": [
    {
     "name": "stdout",
     "output_type": "stream",
     "text": [
      "INFO:tensorflow:Assets written to: D:/Research2021-C/Pratik项目/0511Processed_Data/Model/Model_Example\\assets\n"
     ]
    }
   ],
   "source": [
    "# Saving the model\n",
    "\n",
    "model.save(model_saving_location, save_format='tf')"
   ]
  },
  {
   "cell_type": "markdown",
   "id": "5fd910d5",
   "metadata": {},
   "source": [
    "# Model testing"
   ]
  },
  {
   "cell_type": "code",
   "execution_count": 54,
   "id": "b5e0eac5",
   "metadata": {},
   "outputs": [],
   "source": [
    "testing_x = x_test\n",
    "testing_y = y_test"
   ]
  },
  {
   "cell_type": "code",
   "execution_count": 55,
   "id": "7a23d789",
   "metadata": {},
   "outputs": [],
   "source": [
    "# Label for histogram about training and testing data. \n",
    "training_label = \"Pratik\"\n",
    "test_label = \"Pratik\""
   ]
  },
  {
   "cell_type": "code",
   "execution_count": 57,
   "id": "61284c0b",
   "metadata": {},
   "outputs": [],
   "source": [
    "test_input = testing_x\n",
    "prediction = model.predict(test_input)\n",
    "probabilities = tf.keras.activations.softmax (tf.convert_to_tensor(prediction))"
   ]
  },
  {
   "cell_type": "code",
   "execution_count": 58,
   "id": "e03b09bb",
   "metadata": {},
   "outputs": [],
   "source": [
    "#probabilities"
   ]
  },
  {
   "cell_type": "code",
   "execution_count": 59,
   "id": "61198b95",
   "metadata": {},
   "outputs": [],
   "source": [
    "#to_categorical([0, 0, 1])"
   ]
  },
  {
   "cell_type": "code",
   "execution_count": 60,
   "id": "1c76784b",
   "metadata": {},
   "outputs": [],
   "source": [
    "probnonstat_all = np.array(probabilities[:, 1])"
   ]
  },
  {
   "cell_type": "code",
   "execution_count": 61,
   "id": "4323aacc",
   "metadata": {},
   "outputs": [],
   "source": [
    "probnonstat_stationary = probnonstat_all[np.where(testing_y[:, 1]==0)]\n",
    "probnonstat_nonstationary = probnonstat_all[np.where(testing_y[:, 1]==1)]"
   ]
  },
  {
   "cell_type": "markdown",
   "id": "0018f6b8",
   "metadata": {},
   "source": [
    "# Histogram of the stationarity index "
   ]
  },
  {
   "cell_type": "code",
   "execution_count": 62,
   "id": "6f743f25",
   "metadata": {},
   "outputs": [
    {
     "data": {
      "text/plain": [
       "(array([  1.,   0.,   0.,   0.,   0.,   1.,   0.,   0.,  19., 272.]),\n",
       " array([0.73100626, 0.7310115 , 0.73101676, 0.73102194, 0.7310272 ,\n",
       "        0.73103243, 0.7310377 , 0.7310429 , 0.7310481 , 0.73105335,\n",
       "        0.7310586 ], dtype=float32),\n",
       " <BarContainer object of 10 artists>)"
      ]
     },
     "execution_count": 62,
     "metadata": {},
     "output_type": "execute_result"
    },
    {
     "data": {
      "image/png": "[encoded data removed]",
      "text/plain": [
       "<Figure size 432x288 with 1 Axes>"
      ]
     },
     "metadata": {
      "needs_background": "light"
     },
     "output_type": "display_data"
    }
   ],
   "source": [
    "# Histogram of stationarity index (probability that the data is stationary), for stationary testing data. \n",
    "plt.title(\"Prob. for stationary data, train:\" + training_label + \" test:\" + test_label)\n",
    "plt.xlabel(\"Probability of stationary\")\n",
    "plt.ylabel(\"Frequency\")\n",
    "plt.hist(1-probnonstat_stationary)"
   ]
  },
  {
   "cell_type": "code",
   "execution_count": 63,
   "id": "d6c80f66",
   "metadata": {},
   "outputs": [
    {
     "data": {
      "text/plain": [
       "(array([100.,   0.,   0.,   0.,   0.,   0.,   0.,   0.,   0.,   1.]),\n",
       " array([0.2689414 , 0.27496502, 0.2809886 , 0.28701222, 0.2930358 ,\n",
       "        0.29905942, 0.30508304, 0.31110662, 0.31713024, 0.32315382,\n",
       "        0.32917744], dtype=float32),\n",
       " <BarContainer object of 10 artists>)"
      ]
     },
     "execution_count": 63,
     "metadata": {},
     "output_type": "execute_result"
    },
    {
     "data": {
      "image/png": "[encoded data removed]",
      "text/plain": [
       "<Figure size 432x288 with 1 Axes>"
      ]
     },
     "metadata": {
      "needs_background": "light"
     },
     "output_type": "display_data"
    }
   ],
   "source": [
    "# Histogram of stationarity index (probability that the data is stationary), for nonstatoinary testing data. \n",
    "plt.title(\"Prob. for nonstationary data, train:\" + training_label + \" test:\" + test_label)\n",
    "plt.xlabel(\"Probability of stationary\")\n",
    "plt.ylabel(\"Frequency\")\n",
    "plt.hist(1-probnonstat_nonstationary)"
   ]
  },
  {
   "cell_type": "markdown",
   "id": "2ce7e137",
   "metadata": {},
   "source": [
    "# Outline of classification results for test data"
   ]
  },
  {
   "cell_type": "code",
   "execution_count": 64,
   "id": "f2bc09c7",
   "metadata": {},
   "outputs": [],
   "source": [
    "# Result of correct determination\n",
    "prediction_labels = tf.argmax(prediction , 1).numpy()"
   ]
  },
  {
   "cell_type": "code",
   "execution_count": 70,
   "id": "bd2f9b64",
   "metadata": {},
   "outputs": [
    {
     "name": "stdout",
     "output_type": "stream",
     "text": [
      "TN =  293\n",
      "TP =  101\n",
      "FN =  0\n",
      "FP =  0\n"
     ]
    }
   ],
   "source": [
    "conf_matrix = tf.math.confusion_matrix(tf.convert_to_tensor(testing_y[:, 1]) , tf.convert_to_tensor(prediction_labels))\n",
    "#print(conf_matrix_pratik)\n",
    "\n",
    "# Identifying the type of error (Type I or Type II) \n",
    "\n",
    "true_negatives = conf_matrix[0][0].numpy()\n",
    "true_positives = conf_matrix[1][1].numpy()\n",
    "false_negatives = conf_matrix[1][0].numpy()\n",
    "false_positives = conf_matrix[0][1].numpy()\n",
    "\n",
    "tf.print(\"TN = \" , true_negatives) # Negative = stationary\n",
    "tf.print(\"TP = \" , true_positives) # Positive = nonstationary\n",
    "tf.print(\"FN = \" , false_negatives)\n",
    "tf.print(\"FP = \" , false_positives)"
   ]
  },
  {
   "cell_type": "code",
   "execution_count": 71,
   "id": "d8ef2de2",
   "metadata": {
    "scrolled": true
   },
   "outputs": [
    {
     "name": "stdout",
     "output_type": "stream",
     "text": [
      "Number of stationary testing samples:  293 ; of which correct identifications: 293\n",
      "Correct stationary =  1.0\n",
      "Number of nonstationary testing samples:  101 ; of which correct identifications: 101\n",
      "Correct nonstationary =  1.0\n"
     ]
    }
   ],
   "source": [
    "correct_stationary = true_negatives / (true_negatives + false_positives)\n",
    "correct_nonstationary = true_positives / (true_positives + false_negatives)\n",
    "print(\"Number of stationary testing samples: \", true_negatives + false_positives, \"; of which correct identifications:\", true_negatives)\n",
    "print(\"Correct stationary = \", correct_stationary)\n",
    "print(\"Number of nonstationary testing samples: \", true_positives + false_negatives, \"; of which correct identifications:\", true_positives)\n",
    "print(\"Correct nonstationary = \", correct_nonstationary)"
   ]
  },
  {
   "cell_type": "code",
   "execution_count": 46,
   "id": "e2729625",
   "metadata": {},
   "outputs": [
    {
     "name": "stderr",
     "output_type": "stream",
     "text": [
      "100%|██████████| 338/338 [00:32<00:00, 10.51it/s]\n"
     ]
    }
   ],
   "source": [
    "# Saving names for the npz\n",
    "npzfilename_stationary = \"Dat_stationary_0511Pratik.npz\";\n",
    "npzfilename_nonstationary = \"Dat_nonstationary_0511Pratik.npz\";\n",
    "\n",
    "# Valid for both stationary and nonstationary data. \n",
    "# If the range of locations are determined manually\n",
    "manual_range_locs = False\n",
    "# If the range of observations are determined manually\n",
    "manual_range_z = False\n",
    "\n",
    "# Folder places and filenames\n",
    "# Stationary\n",
    "directory_in_str_locs_stationary = \"D:/Research2021-C/Pratik项目/0511Pratik_Data/subregion_stationary/\"\n",
    "directory_in_str_z_stationary = \"D:/Research2021-C/Pratik项目/0511Pratik_Data/subregion_stationary/\"\n",
    "locs_string_stationary = \"LOC_\" # LOC_3600_sample_1.txt, LOC_3600_sample_2.txt, ...\n",
    "z_string_stationary = \"Z_\" # Z_3600_sample_1.txt, Z_3600_sample_2.txt, ...\n",
    "\n",
    "\n",
    "\n",
    "# Initialization \n",
    "directory_in_str_locs = directory_in_str_locs_stationary\n",
    "directory_in_str_z = directory_in_str_z_stationary\n",
    "locs_string = locs_string_stationary\n",
    "z_string = z_string_stationary\n",
    "\n",
    "directory_locs = os.fsencode(directory_in_str_locs)\n",
    "data_folder1_locs = os.listdir(directory_locs)\n",
    "\n",
    "location_file_list = []\n",
    "Z_file_list = []\n",
    "for path, subdirs, files in os.walk(directory_locs):\n",
    "    for name in files:\n",
    "        name_string = name.decode(\"utf-8\")\n",
    "        if name_string.startswith(locs_string): \n",
    "            location_file_path = os.path.join(path, name)\n",
    "            location_file_path = location_file_path.decode(\"utf-8\")\n",
    "            z_file_path = location_file_path.replace(locs_string, z_string, 1)\n",
    "            location_file_list.append(location_file_path)\n",
    "            Z_file_list.append(z_file_path)\n",
    "\n",
    "# loc_files is the file name for plotting. \n",
    "loc_files = []\n",
    "for i in range(len(location_file_list)): \n",
    "    replace_res = location_file_list[i].replace(directory_in_str_locs, \"\")\n",
    "    replace_res = replace_res.replace(\"\\\\\", \"_\")\n",
    "    loc_files.append(replace_res)\n",
    "\n",
    "# Grid row and column\n",
    "GRID_ROWS = 100\n",
    "GRID_COLS = 100\n",
    "\n",
    "# Initialization continued\n",
    "ndata = len(location_file_list)\n",
    "#ndata = 100 # Test\n",
    "stationary_x_test = np.zeros((ndata,GRID_COLS,GRID_ROWS))\n",
    "\n",
    "stationary_y_test = np.zeros(ndata) # Zero = the model is stationary. One = nonstationary. \n",
    "\n",
    "# Initialization continued\n",
    "param_val_is_stat = 1;\n",
    "npzfilename = npzfilename_stationary;\n",
    "\n",
    "# Initialization continued\n",
    "npzfilename = npzfilename_nonstationary;\n",
    "\n",
    "# Initialization continued\n",
    "param_is_stat = np.ones(ndata)\n",
    "#param_samplenum.fill(param_val_samplenum)\n",
    "param_is_stat.fill(param_val_is_stat)\n",
    "\n",
    "param_list = []\n",
    "\n",
    "# Main program for data preprocessing\n",
    "for i_folder in tqdm(range(ndata)):\n",
    "    # Append the parameter to samples. \n",
    "    param_dict = {\n",
    "        \"sample\": i_folder,\n",
    "        \"is_stat\": param_val_is_stat\n",
    "    }\n",
    "    param_list.append(param_dict)\n",
    "    #==========\n",
    "    # Data extraction\n",
    "    #===========\n",
    "    # Get location and observation files for each subsample\n",
    "    loc_text = location_file_list[i_folder]\n",
    "    z_text = Z_file_list[i_folder]\n",
    "    # Load the location and z files\n",
    "    location_file = open(loc_text)\n",
    "    Z_value_file = open(z_text)\n",
    "#     print(location_file)\n",
    "    locations = np.loadtxt(location_file, delimiter=',')\n",
    "    Z_values = np.loadtxt(Z_value_file, delimiter=',')\n",
    "    #==========\n",
    "    # End of data extraction\n",
    "    #==========\n",
    "    # Compute the output grid\n",
    "    output_arr = np.zeros((GRID_ROWS,GRID_COLS))\n",
    "    grid_sum_arr = np.zeros((GRID_ROWS,GRID_COLS))\n",
    "    grid_div_arr = np.zeros((GRID_ROWS,GRID_COLS))\n",
    "    if manual_range_locs == False:\n",
    "        # Start and end locations (Auto)\n",
    "#         print(locations[:,0],locations[:,1])\n",
    "        startx = min(locations[:, 0])\n",
    "        starty = min(locations[:, 1])\n",
    "        endx = max(locations[:, 0])\n",
    "        endy = max(locations[:, 1])\n",
    "#     print(locations)\n",
    "    locations[:,0] = (locations[:, 0] - startx)/(endx - startx)\n",
    "    locations[:,1] = (locations[:, 1] - starty)/(endy - starty)\n",
    "#     print(locations)\n",
    "    \n",
    "    X = np.linspace(0, 1,GRID_COLS)\n",
    "    Y = np.linspace(0, 1,GRID_ROWS)\n",
    "    X, Y = np.meshgrid(X, Y)  # 2D grid for interpolation\n",
    "    interp = NearestNDInterpolator(locations, Z_values)\n",
    "    Z = interp(X, Y)\n",
    "#     break\n",
    "#     # Get the summation and division\n",
    "#     for j in range(locations.shape[0]):\n",
    "#         # Get the grid locations (x, y). Result: [y][x], because x is column (x=0 is the first column). \n",
    "#         x = int(math.floor((locations[j][0] - startx) * GRID_COLS / (endx - startx)))\n",
    "#         y = int(math.floor((locations[j][1] - starty) * GRID_ROWS / (endy - starty)))\n",
    "#         # For boundary value problems\n",
    "#         x = min(x, GRID_COLS - 1)\n",
    "#         y = min(y, GRID_ROWS - 1)\n",
    "#         val = Z_values[j]\n",
    "#         # Add the summation and division\n",
    "#         grid_sum_arr[y][x] = grid_sum_arr[y][x] + val\n",
    "#         grid_div_arr[y][x] += 1\n",
    "#     # Generate output\n",
    "#     for j1 in range(GRID_ROWS):\n",
    "#         for j2 in range(GRID_COLS):\n",
    "#             if grid_div_arr[j1][j2] > 0:\n",
    "#                 # Mean value in a cell\n",
    "#                 output_arr[j1][j2] += (grid_sum_arr[j1][j2] / grid_div_arr[j1][j2])\n",
    "#             else:\n",
    "#                 # Mean value over all regions if the cell has no locations\n",
    "#                 output_arr[j1][j2] += np.mean(Z_values)\n",
    "    if manual_range_z == False:\n",
    "        # Normalize (Auto)\n",
    "        m = np.min(Z)\n",
    "        M = np.max(Z)\n",
    "    if m == M:\n",
    "        output_arr = np.ones((GRID_ROWS,GRID_COLS)) * 0.5 # All 0.5\n",
    "    else: \n",
    "        # Range from 0 to 1. \n",
    "        Z = (Z - m) / (M - m)\n",
    "    # Save results\n",
    "    stationary_x_test[i_folder] = Z\n",
    "\n",
    "# Load model\n",
    "\n",
    "# Places for location saving\n",
    "# model_saving_location = 'D:/Research2021-C/Pratik项目/0511Processed_Data/Model/Model_Example'\n",
    "\n",
    "# model = Sequential()\n",
    "# #add model layers\n",
    "# model.add(Conv2D(64, kernel_size=3, activation=\"relu\", input_shape=(100, 100, 1)))\n",
    "# model.add(Conv2D(32, kernel_size=3, activation=\"relu\"))\n",
    "# model.add(Flatten())\n",
    "# model.add(Dense(128, activation='relu'))\n",
    "# model.add(Dense(2, activation='softmax'))\n",
    "# model = tf.keras.models.load_model(model_saving_location, compile = False)\n",
    "\n",
    "# model.summary()"
   ]
  },
  {
   "cell_type": "code",
   "execution_count": 47,
   "id": "510e578e",
   "metadata": {},
   "outputs": [],
   "source": [
    "stationary_x_test = stationary_x_test.reshape(338,100,100,1)"
   ]
  },
  {
   "cell_type": "code",
   "execution_count": 48,
   "id": "7b3f37d5",
   "metadata": {},
   "outputs": [],
   "source": [
    "prediction = model.predict(stationary_x_test)"
   ]
  },
  {
   "cell_type": "code",
   "execution_count": 50,
   "id": "601bba0d",
   "metadata": {},
   "outputs": [
    {
     "data": {
      "text/plain": [
       "array([       nan,        nan, 0.9999976 , 0.9998952 , 0.99963045,\n",
       "       0.9999387 , 0.99998856, 0.99981505, 0.99999666, 0.99961936,\n",
       "       0.9999136 , 0.99998736, 0.9998659 , 0.99985266, 0.9999993 ,\n",
       "       0.9872084 , 0.99993885, 0.99986196, 1.        , 0.99999964,\n",
       "       0.99998796, 0.9999937 , 0.9999542 , 0.99993503, 0.99535334,\n",
       "       0.99980897, 0.99991274, 0.99936575, 0.99999666, 0.99995005,\n",
       "       0.99998677, 0.9991015 , 0.99998224, 0.9999974 , 0.9998801 ,\n",
       "       0.9999864 , 0.99999785, 0.9999217 , 0.999923  , 0.9997025 ,\n",
       "       0.99992895, 0.999974  , 0.99996185, 0.9980446 , 0.9402593 ,\n",
       "       0.99967957, 0.9999472 , 0.9999919 , 0.9999999 , 0.9999963 ,\n",
       "       0.9999995 , 0.9998266 , 0.9999957 , 0.9999846 , 0.9999652 ,\n",
       "       0.9999937 , 0.99999595, 0.99966085, 0.9999999 , 0.9999999 ,\n",
       "       0.9985898 , 0.99069315, 0.9998734 , 0.9999999 , 0.9999795 ,\n",
       "       0.9999995 , 0.9999893 , 0.99999654, 0.9999752 , 0.99999917,\n",
       "       0.9995291 , 0.9991222 , 0.9999989 , 0.99999917, 0.99849653,\n",
       "       0.9999893 , 0.9999877 , 0.88644224, 0.9998956 , 0.99953675,\n",
       "       0.9999963 , 0.9999883 , 0.9999422 , 0.9999497 , 0.99999654,\n",
       "       0.59645766, 0.9992461 , 0.9999925 , 0.9999974 , 0.9956884 ,\n",
       "       0.9999865 , 0.9998635 , 0.99940383, 0.7476772 , 0.9996176 ,\n",
       "       0.4476714 , 0.9999013 , 0.9999976 , 0.9999933 , 0.9999293 ,\n",
       "       0.9999919 , 0.99957305, 0.9994506 , 0.999995  , 0.9999869 ,\n",
       "       0.9993585 , 0.9999869 , 0.9999516 , 0.9999925 , 0.99998784,\n",
       "       0.99999964, 0.9999652 , 0.9979796 , 0.99987435, 0.9999343 ,\n",
       "       0.99894077, 0.99997616, 0.85179245, 0.9981511 , 0.9998971 ,\n",
       "       0.9984572 , 0.99999905, 0.99995005, 0.99660265, 0.99990344,\n",
       "       0.9999987 , 0.9919734 , 0.9999894 , 0.999995  , 0.99975425,\n",
       "       0.9999856 , 0.98225856, 0.9999865 , 0.98891896, 0.99999046,\n",
       "       0.9997583 , 0.99970883, 0.9999976 , 0.99998915, 0.99999976,\n",
       "       0.9997154 , 0.9999949 , 0.99999   , 0.9999999 , 0.9994062 ,\n",
       "       0.99989104, 0.99388325, 0.99998236, 0.9999502 , 0.9992459 ,\n",
       "       0.9999776 , 0.9998934 , 0.99988675, 0.9999846 , 0.9999906 ,\n",
       "       0.9999876 , 0.9999851 , 0.9997259 , 0.9999745 , 0.99999166,\n",
       "       0.999897  , 0.9992465 , 0.9999918 , 0.9811369 , 0.99810755,\n",
       "       0.99984837, 0.9989278 , 0.998237  , 0.97277224, 0.999757  ,\n",
       "       0.99999404, 0.9998548 , 0.9995233 , 0.99980754, 0.99996364,\n",
       "       0.9999931 , 0.9999249 , 0.9997124 , 0.999967  , 0.9999988 ,\n",
       "       0.9999745 , 0.9999478 , 0.99998343, 0.9941037 , 0.99995196,\n",
       "       0.99950397, 0.9563072 , 0.9999994 , 0.9996823 , 0.99998665,\n",
       "       0.9985393 , 0.99998987, 0.999972  , 0.99999285, 0.9965598 ,\n",
       "       0.9990363 , 0.944684  , 0.9999902 , 0.99997056, 0.9999976 ,\n",
       "       0.99641955, 0.9974624 , 0.9999975 , 0.999998  , 0.9999975 ,\n",
       "       0.99975604, 0.998665  , 0.99999976, 0.9962919 , 0.999318  ,\n",
       "       0.99967635, 0.99988556, 0.9991246 , 0.9999993 , 0.99982613,\n",
       "       0.99999654, 0.3690223 , 0.998231  , 0.99996924, 0.9997842 ,\n",
       "       0.9990422 , 0.86422986, 0.9999714 , 0.99955887, 0.99998736,\n",
       "       0.99999046, 0.9999088 , 0.999464  , 0.99999034, 0.9999645 ,\n",
       "       0.9995437 , 0.99999845, 0.9908269 , 0.9997235 , 0.99842477,\n",
       "       0.9997311 , 0.9993181 , 0.9902693 , 0.9996164 , 0.9998683 ,\n",
       "       0.99984777, 0.9995845 , 0.99995303, 0.99255085, 0.9999963 ,\n",
       "       0.99997115, 0.99998844, 0.94324046, 0.9998185 , 0.9995566 ,\n",
       "       0.99448305, 0.96900475, 0.9997745 , 0.9997491 , 0.99890065,\n",
       "       0.9999765 , 0.99995804, 0.9993876 , 0.99996006, 0.9972276 ,\n",
       "       0.99999905, 0.9999918 , 0.9999862 , 0.99990296, 0.9999871 ,\n",
       "       0.9988005 , 0.9999348 , 0.9999982 , 0.9999542 , 0.99999857,\n",
       "       0.9999716 , 0.9997056 , 0.99796945, 0.9963743 , 0.9999865 ,\n",
       "       0.99994314, 0.9999815 , 0.9959208 , 0.99999726, 0.9999461 ,\n",
       "       0.9999509 , 0.9560395 , 0.99990416, 0.9999553 , 0.9917128 ,\n",
       "       0.9999558 , 0.99999774, 0.99868625, 0.99990535, 0.9975169 ,\n",
       "       0.9995466 , 0.99928015, 0.99983776, 0.9999981 , 0.9613361 ,\n",
       "       0.98873866, 0.99998856, 0.99999905, 0.9998053 , 0.99876535,\n",
       "       0.999627  , 0.9955649 , 0.9999958 , 0.9993268 , 0.9999995 ,\n",
       "       0.99999905, 0.99998415, 0.9999902 , 0.9984397 , 0.9998087 ,\n",
       "       0.99998915, 0.999944  , 0.99996567, 0.9999933 , 0.9999958 ,\n",
       "       0.9891043 , 0.99996793, 0.9999584 , 0.9999995 , 0.9996669 ,\n",
       "       0.99995303, 0.99999845, 0.9999794 , 0.99999774, 0.9995554 ,\n",
       "       0.9984976 , 0.99994385, 0.99868363, 0.9999198 , 0.999998  ,\n",
       "       0.999998  , 0.9999999 , 0.9999726 , 0.99993217, 0.9999981 ,\n",
       "       0.9999665 , 0.9981255 , 0.9999087 ], dtype=float32)"
      ]
     },
     "execution_count": 50,
     "metadata": {},
     "output_type": "execute_result"
    }
   ],
   "source": [
    "prediction[:,1]"
   ]
  }
 ],
 "metadata": {
  "kernelspec": {
   "display_name": "Python 3 (ipykernel)",
   "language": "python",
   "name": "python3"
  },
  "language_info": {
   "codemirror_mode": {
    "name": "ipython",
    "version": 3
   },
   "file_extension": ".py",
   "mimetype": "text/x-python",
   "name": "python",
   "nbconvert_exporter": "python",
   "pygments_lexer": "ipython3",
   "version": "3.8.12"
  }
 },
 "nbformat": 4,
 "nbformat_minor": 5
}
