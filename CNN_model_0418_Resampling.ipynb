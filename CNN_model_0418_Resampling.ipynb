{
 "cells": [
  {
   "cell_type": "markdown",
   "id": "a662c012",
   "metadata": {
    "id": "a662c012"
   },
   "source": [
    "<a href=\"https://colab.research.google.com/github/ecrc/GMC-DL/blob/Yiping%2FCNN_Stationary_Classification/CNN_Model_Training_Upload_Version.ipynb\" target=\"_parent\"><img src=\"https://colab.research.google.com/assets/colab-badge.svg\" alt=\"Open In Colab\"/></a>\n",
    "\n",
    "<table align=\"center\">\n",
    "  <td align=\"center\"><a target=\"_blank\" href=\"https://cemse.kaust.edu.sa/ecrc\">\n",
    "        <img src=\"https://user-images.githubusercontent.com/35196657/127348264-3e19521e-4833-4eaf-9d69-0cd60c98c06b.png\" style=\"padding-bottom:5px;\" />\n",
    "      Visit ECRC at KAUST</a></td>\n",
    "  <td align=\"center\"><a target=\"_blank\" href=\"https://colab.research.google.com/github/ecrc/GMC-DL/blob/Yiping%2FCNN_Stationary_Classification/CNN_Model_Training_Upload_Version.ipynb\">\n",
    "        <img src=\"https://i.ibb.co/2P3SLwK/colab.png\"  style=\"padding-bottom:5px;\" />Run in Google Colab</a></td>\n",
    "  <td align=\"center\"><a target=\"_blank\" href=\"https://github.com/ecrc/GMC-DL/blob/Yiping/CNN_Stationary_Classification/CNN_Model_Training_Upload_Version.ipynb\">\n",
    "        <img src=\"https://i.ibb.co/xfJbPmL/github.png\"  height=\"70px\" style=\"padding-bottom:5px;\"  />View Source on GitHub</a></td>\n",
    "</table>"
   ]
  },
  {
   "cell_type": "code",
   "execution_count": 4,
   "id": "a219fc42",
   "metadata": {
    "id": "a219fc42"
   },
   "outputs": [
    {
     "name": "stderr",
     "output_type": "stream",
     "text": [
      "2023-03-29 15:38:05.899425: I tensorflow/stream_executor/platform/default/dso_loader.cc:49] Successfully opened dynamic library libcudart.so.11.0\n"
     ]
    }
   ],
   "source": [
    "import numpy as np\n",
    "import os\n",
    "import sys\n",
    "# import seaborn as sns\n",
    "import matplotlib.pylab as plt\n",
    "import math\n",
    "from pathlib import Path # Python >= 3.5, for folder creation\n",
    "import random # Random seed\n",
    "from tqdm import tqdm # Progress bar in for loop\n",
    "import pandas as pd\n",
    "# Tensorflow\n",
    "import tensorflow as tf\n",
    "\n",
    "# from tensorflow.keras.layers import Dense, Flatten, Conv2D\n",
    "# from tensorflow.keras import Model\n",
    "from tensorflow.keras.layers import Dense, Flatten, Conv2D\n",
    "# from tensorflow.keras import Model\n",
    "from tensorflow.keras.models import Sequential,Model\n",
    "from tensorflow.keras.utils import to_categorical\n",
    "from scipy.interpolate import NearestNDInterpolator"
   ]
  },
  {
   "cell_type": "markdown",
   "id": "f2cfd4be",
   "metadata": {
    "id": "f2cfd4be"
   },
   "source": [
    "# Part 1: Data Preprocessing"
   ]
  },
  {
   "cell_type": "code",
   "execution_count": 5,
   "id": "da18a539",
   "metadata": {
    "id": "da18a539"
   },
   "outputs": [],
   "source": [
    "# Input: Stationary and nonstationary generated data\n",
    "#          Stationary files are located in directory_in_str_locs_stationary (locations) \n",
    "#          and directory_in_str_z_stationary (observed values)\n",
    "# \n",
    "#          File names: LOC_3600_sample_1.txt, LOC_3600_sample_2.txt, ... (locations)\n",
    "#                      Z_3600_sample_1.txt, Z_3600_sample_2.txt, ... (observed values)\n",
    "# \n",
    "#          Format examples: \n",
    "#          LOC_3600_sample_1.txt:         Z_3600_sample_1.txt\n",
    "#          0.012863,0.006928              1.264426\n",
    "#          0.019715,0.003342              -0.526158\n",
    "#          ...                            ...\n",
    "# \n",
    "#          step_size: Step for jumping the plot. \n",
    "#                     When step_size = 10, the notebook plots preprocessed data for number 0, 10, 20, ...\n",
    "# \n",
    "# Output: npz files containing preprocessed data inside save_data_string\n",
    "#         plots of the preprocessed data inside save_fig_string"
   ]
  },
  {
   "cell_type": "markdown",
   "id": "8af01157",
   "metadata": {
    "id": "8af01157"
   },
   "source": [
    "# Inputs"
   ]
  },
  {
   "cell_type": "code",
   "execution_count": 6,
   "id": "a2ef40d6",
   "metadata": {
    "id": "a2ef40d6"
   },
   "outputs": [],
   "source": [
    "# Folder places and filenames\n",
    "# Stationary\n",
    "directory_in_str_locs_stationary = \"stationary_data/\"\n",
    "directory_in_str_z_stationary = \"stationary_data/\"\n",
    "locs_string_stationary = \"LOC_\" # LOC_3600_sample_1.txt, LOC_3600_sample_2.txt, ...\n",
    "z_string_stationary = \"Z1_\" # Z_3600_sample_1.txt, Z_3600_sample_2.txt, ...\n",
    "# Nonstationary\n",
    "directory_in_str_locs_nonstationary = \"nonstationary_data/\"\n",
    "directory_in_str_z_nonstationary = \"nonstationary_data/\"\n",
    "locs_string_nonstationary = \"LOC_\"\n",
    "z_string_nonstationary = \"Z1_\""
   ]
  },
  {
   "cell_type": "code",
   "execution_count": 7,
   "id": "e95db1c8",
   "metadata": {
    "id": "e95db1c8"
   },
   "outputs": [],
   "source": [
    "# Saving places\n",
    "save_data_string = \"Processed_Data/\"\n",
    "save_fig_string = \"Processed_Data/Plots/\""
   ]
  },
  {
   "cell_type": "code",
   "execution_count": 8,
   "id": "0d06d325",
   "metadata": {
    "id": "0d06d325"
   },
   "outputs": [],
   "source": [
    "# Saving names for the npz\n",
    "npzfilename_stationary = \"Dat_stationary_0413Pratik.npz\";\n",
    "npzfilename_nonstationary = \"Dat_nonstationary_0413Pratik.npz\";"
   ]
  },
  {
   "cell_type": "code",
   "execution_count": 9,
   "id": "34f00e4b",
   "metadata": {
    "id": "34f00e4b"
   },
   "outputs": [],
   "source": [
    "# Step for jumping the plot. step_size=10: plot number 0, 10, 20, and so on. \n",
    "step_size = 1; # Step for jumping the plot. step_size=10: plot number 0, 10, 20, and so on. "
   ]
  },
  {
   "cell_type": "code",
   "execution_count": 10,
   "id": "1edf59d1",
   "metadata": {
    "id": "1edf59d1"
   },
   "outputs": [],
   "source": [
    "# Valid for both stationary and nonstationary data. \n",
    "# If the range of locations are determined manually\n",
    "manual_range_locs = False\n",
    "# If the range of observations are determined manually\n",
    "manual_range_z = False"
   ]
  },
  {
   "cell_type": "code",
   "execution_count": 11,
   "id": "3c912da9",
   "metadata": {
    "id": "3c912da9"
   },
   "outputs": [],
   "source": [
    "# Range of locations when manual_range_locs = True\n",
    "if manual_range_locs == True:\n",
    "    startx = 0\n",
    "    endx = 1\n",
    "    starty = 0\n",
    "    endy = 1"
   ]
  },
  {
   "cell_type": "code",
   "execution_count": 12,
   "id": "16b0cf1d",
   "metadata": {
    "id": "16b0cf1d"
   },
   "outputs": [],
   "source": [
    "# Range of observations when manual_range_z = True\n",
    "if manual_range_z == True:\n",
    "    m = 0\n",
    "    M = 1 # The range of observations is [m, M]. "
   ]
  },
  {
   "cell_type": "markdown",
   "id": "483757a5",
   "metadata": {
    "id": "483757a5"
   },
   "source": [
    "# Statioanry data preprocessing"
   ]
  },
  {
   "cell_type": "code",
   "execution_count": 13,
   "id": "12a139d5",
   "metadata": {
    "id": "12a139d5"
   },
   "outputs": [],
   "source": [
    "# Initialization \n",
    "# directory_in_str_locs = directory_in_str_locs_stationary\n",
    "# directory_in_str_z = directory_in_str_z_stationary\n",
    "# locs_string = locs_string_stationary\n",
    "# z_string = z_string_stationary"
   ]
  },
  {
   "cell_type": "code",
   "execution_count": 14,
   "id": "088cde2a",
   "metadata": {
    "id": "088cde2a"
   },
   "outputs": [],
   "source": [
    "# directory_locs = os.fsencode(directory_in_str_locs)\n",
    "# data_folder1_locs = os.listdir(directory_locs)"
   ]
  },
  {
   "cell_type": "code",
   "execution_count": 15,
   "id": "6aa0ea3a",
   "metadata": {
    "id": "6aa0ea3a"
   },
   "outputs": [],
   "source": [
    "# location_file_list = []\n",
    "# Z_file_list = []\n",
    "# for path, subdirs, files in os.walk(directory_locs):\n",
    "#     for name in files:\n",
    "#         name_string = name.decode(\"utf-8\")\n",
    "#         if name_string.startswith(locs_string): \n",
    "#             location_file_path = os.path.join(path, name)\n",
    "#             location_file_path = location_file_path.decode(\"utf-8\")\n",
    "#             z_file_path = location_file_path.replace(locs_string, z_string, 1)\n",
    "#             location_file_list.append(location_file_path)\n",
    "#             Z_file_list.append(z_file_path)"
   ]
  },
  {
   "cell_type": "code",
   "execution_count": 16,
   "id": "297f9687",
   "metadata": {},
   "outputs": [],
   "source": [
    "# Folder places and filenames\n",
    "# Stationary\n",
    "\n",
    "location_file_list = [] # define if you donot want to have the true stationary regions for training\n",
    "Z_file_list = []\n",
    "directory_in_str_locs_stationary = \"stationary_data/\"\n",
    "directory_in_str_z_stationary = \"stationary_data/\"\n",
    "locs_string_stationary = \"LOC_\" # LOC_3600_sample_1.txt, LOC_3600_sample_2.txt, ...\n",
    "z_string_stationary = \"Z1_\" # Z_3600_sample_1.txt, Z_3600_sample_2.txt, ...\n",
    "\n",
    "\n",
    "# Initialization \n",
    "directory_in_str_locs = directory_in_str_locs_stationary\n",
    "directory_in_str_z = directory_in_str_z_stationary\n",
    "locs_string = locs_string_stationary\n",
    "z_string = z_string_stationary\n",
    "\n",
    "directory_locs = os.fsencode(directory_in_str_locs)\n",
    "data_folder1_locs = os.listdir(directory_locs)\n",
    "\n",
    "\n",
    "for path, subdirs, files in os.walk(directory_locs):\n",
    "    for name in files:\n",
    "        name_string = name.decode(\"utf-8\")\n",
    "        if name_string.startswith(locs_string): \n",
    "            location_file_path = os.path.join(path, name)\n",
    "            location_file_path = location_file_path.decode(\"utf-8\")\n",
    "            z_file_path = location_file_path.replace(locs_string, z_string, 1)\n",
    "            location_file_list.append(location_file_path)\n",
    "            Z_file_list.append(z_file_path)\n"
   ]
  },
  {
   "cell_type": "code",
   "execution_count": 17,
   "id": "a358abfd",
   "metadata": {
    "id": "a358abfd"
   },
   "outputs": [],
   "source": [
    "# loc_files is the file name for plotting. \n",
    "loc_files = []\n",
    "for i in range(len(location_file_list)): \n",
    "    replace_res = location_file_list[i].replace(directory_in_str_locs, \"\")\n",
    "    replace_res = replace_res.replace(\"\\\\\", \"_\")\n",
    "    loc_files.append(replace_res)"
   ]
  },
  {
   "cell_type": "code",
   "execution_count": 18,
   "id": "daf7de55",
   "metadata": {
    "id": "daf7de55"
   },
   "outputs": [],
   "source": [
    "# Grid row and column\n",
    "GRID_ROWS = 100\n",
    "GRID_COLS = 100\n",
    "\n",
    "# Initialization continued\n",
    "ndata = len(location_file_list)\n",
    "#ndata = 100 # Test\n",
    "stationary_x_train = np.zeros((ndata,GRID_COLS,GRID_ROWS))\n",
    "\n",
    "stationary_y_train = np.zeros(ndata) # Zero = the model is stationary. One = nonstationary. "
   ]
  },
  {
   "cell_type": "code",
   "execution_count": 19,
   "id": "9b08ac81",
   "metadata": {
    "id": "9b08ac81"
   },
   "outputs": [],
   "source": [
    "# Initialization continued\n",
    "param_val_is_stat = 1;\n",
    "npzfilename = npzfilename_stationary;"
   ]
  },
  {
   "cell_type": "code",
   "execution_count": 20,
   "id": "31493d45",
   "metadata": {
    "id": "31493d45"
   },
   "outputs": [],
   "source": [
    "# Initialization continued\n",
    "param_is_stat = np.ones(ndata)\n",
    "#param_samplenum.fill(param_val_samplenum)\n",
    "param_is_stat.fill(param_val_is_stat)\n",
    "\n",
    "param_list = []"
   ]
  },
  {
   "cell_type": "code",
   "execution_count": 21,
   "id": "ba661242",
   "metadata": {},
   "outputs": [],
   "source": [
    "# http://127.0.0.1:10001/?token=9f1bcd66985a98609401a6f8285e6ed76d2757bd93346702"
   ]
  },
  {
   "cell_type": "code",
   "execution_count": 22,
   "id": "622a61d2",
   "metadata": {},
   "outputs": [],
   "source": [
    "# plt.figure(figsize=(10,8))\n",
    "# plt.imshow(Z1)\n",
    "# plt.xticks([])\n",
    "# plt.yticks([])\n",
    "# plt.savefig('interpolated.png')"
   ]
  },
  {
   "cell_type": "code",
   "execution_count": 124,
   "id": "78ee702e",
   "metadata": {},
   "outputs": [],
   "source": [
    "# n = 1040\n",
    "# loc_text = location_file_list[n]\n",
    "# z_text = Z_file_list[n]\n",
    "# # Load the location and z files\n",
    "# location_file = open(loc_text)\n",
    "# Z_value_file = open(z_text)\n",
    "# #     print(location_file)\n",
    "# locations = np.loadtxt(location_file, delimiter=',')\n",
    "# Z_values = np.loadtxt(Z_value_file, delimiter=',')"
   ]
  },
  {
   "cell_type": "code",
   "execution_count": 23,
   "id": "30dad01a",
   "metadata": {
    "id": "30dad01a",
    "outputId": "6ac6037e-c941-442e-bf92-9f6f4ee91fc8",
    "scrolled": true
   },
   "outputs": [
    {
     "name": "stderr",
     "output_type": "stream",
     "text": [
      "100%|██████████| 3428/3428 [06:46<00:00,  8.42it/s]\n"
     ]
    }
   ],
   "source": [
    "# Main program for data preprocessing\n",
    "count = 0\n",
    "for i_folder in tqdm(range(ndata)):\n",
    "    # Append the parameter to samples. \n",
    "    param_dict = {\n",
    "        \"sample\": i_folder,\n",
    "        \"is_stat\": param_val_is_stat\n",
    "    }\n",
    "    param_list.append(param_dict)\n",
    "    #==========\n",
    "    # Data extraction\n",
    "    #===========\n",
    "    # Get location and observation files for each subsample\n",
    "    loc_text = location_file_list[i_folder]\n",
    "    z_text = Z_file_list[i_folder]\n",
    "    # Load the location and z files\n",
    "    location_file = open(loc_text)\n",
    "    Z_value_file = open(z_text)\n",
    "#     print(location_file)\n",
    "    locations = np.loadtxt(location_file, delimiter=',')\n",
    "    Z_values = np.loadtxt(Z_value_file, delimiter=',')\n",
    "    #==========\n",
    "    # End of data extraction\n",
    "    #==========\n",
    "    # Compute the output grid\n",
    "    output_arr = np.zeros((GRID_ROWS,GRID_COLS))\n",
    "    grid_sum_arr = np.zeros((GRID_ROWS,GRID_COLS))\n",
    "    grid_div_arr = np.zeros((GRID_ROWS,GRID_COLS))\n",
    "    if manual_range_locs == False:\n",
    "        # Start and end locations (Auto)\n",
    "#         print(locations[:,0],locations[:,1])\n",
    "        startx = min(locations[:, 0])\n",
    "        starty = min(locations[:, 1])\n",
    "        endx = max(locations[:, 0])\n",
    "        endy = max(locations[:, 1])\n",
    "#     print(locations)\n",
    "    locations[:,0] = (locations[:, 0] - startx)/(endx - startx)\n",
    "    locations[:,1] = (locations[:, 1] - starty)/(endy - starty)\n",
    "#     print(locations)\n",
    "    startz = min(Z_values)\n",
    "    endz = max(Z_values)\n",
    "    if(abs(endz-startz) > 100):\n",
    "        pass\n",
    "    else:\n",
    "        X = np.linspace(0, 1,GRID_COLS)\n",
    "        Y = np.linspace(0, 1,GRID_ROWS)\n",
    "        X, Y = np.meshgrid(X, Y)  # 2D grid for interpolation\n",
    "        interp = NearestNDInterpolator(locations, Z_values)\n",
    "        Z = interp(X, Y)\n",
    "    #     break\n",
    "    #     # Get the summation and division\n",
    "    #     for j in range(locations.shape[0]):\n",
    "    #         # Get the grid locations (x, y). Result: [y][x], because x is column (x=0 is the first column). \n",
    "    #         x = int(math.floor((locations[j][0] - startx) * GRID_COLS / (endx - startx)))\n",
    "    #         y = int(math.floor((locations[j][1] - starty) * GRID_ROWS / (endy - starty)))\n",
    "    #         # For boundary value problems\n",
    "    #         x = min(x, GRID_COLS - 1)\n",
    "    #         y = min(y, GRID_ROWS - 1)\n",
    "    #         val = Z_values[j]\n",
    "    #         # Add the summation and division\n",
    "    #         grid_sum_arr[y][x] = grid_sum_arr[y][x] + val\n",
    "    #         grid_div_arr[y][x] += 1\n",
    "    #     # Generate output\n",
    "    #     for j1 in range(GRID_ROWS):\n",
    "    #         for j2 in range(GRID_COLS):\n",
    "    #             if grid_div_arr[j1][j2] > 0:\n",
    "    #                 # Mean value in a cell\n",
    "    #                 output_arr[j1][j2] += (grid_sum_arr[j1][j2] / grid_div_arr[j1][j2])\n",
    "    #             else:\n",
    "    #                 # Mean value over all regions if the cell has no locations\n",
    "    #                 output_arr[j1][j2] += np.mean(Z_values)\n",
    "        if manual_range_z == False:\n",
    "            # Normalize (Auto)\n",
    "            m = np.min(Z)\n",
    "            M = np.max(Z)\n",
    "        if m == M:\n",
    "            output_arr = np.ones((GRID_ROWS,GRID_COLS)) * 0.5 # All 0.5\n",
    "        else: \n",
    "            # Range from 0 to 1. \n",
    "            Z = (Z - m) / (M - m)\n",
    "        # Save results\n",
    "        stationary_x_train[count] = Z\n",
    "        count = count + 1"
   ]
  },
  {
   "cell_type": "code",
   "execution_count": 49,
   "id": "d0f10bd1",
   "metadata": {},
   "outputs": [
    {
     "data": {
      "text/plain": [
       "<_io.TextIOWrapper name='stationary_subregion/stationary_data_1000/LOC_0' mode='r' encoding='UTF-8'>"
      ]
     },
     "execution_count": 49,
     "metadata": {},
     "output_type": "execute_result"
    }
   ],
   "source": [
    "# location_file"
   ]
  },
  {
   "cell_type": "code",
   "execution_count": 50,
   "id": "58145b7a",
   "metadata": {},
   "outputs": [
    {
     "name": "stderr",
     "output_type": "stream",
     "text": [
      "/tmp/ipykernel_43727/1948567286.py:1: UserWarning: loadtxt: Empty input file: \"<_io.TextIOWrapper name='stationary_subregion/stationary_data_1000/LOC_0' mode='r' encoding='UTF-8'>\"\n",
      "  locations = np.loadtxt(location_file, delimiter=',')\n"
     ]
    }
   ],
   "source": [
    "# locations = np.loadtxt(location_file, delimiter=',')"
   ]
  },
  {
   "cell_type": "code",
   "execution_count": 21,
   "id": "b8325935",
   "metadata": {},
   "outputs": [],
   "source": [
    "# stationary_x_train = stationary_x_train[:count,:,:]"
   ]
  },
  {
   "cell_type": "code",
   "execution_count": 24,
   "id": "6f92bb87",
   "metadata": {},
   "outputs": [
    {
     "data": {
      "text/plain": [
       "3428"
      ]
     },
     "execution_count": 24,
     "metadata": {},
     "output_type": "execute_result"
    }
   ],
   "source": [
    "count"
   ]
  },
  {
   "cell_type": "code",
   "execution_count": 25,
   "id": "453a2685",
   "metadata": {
    "id": "453a2685"
   },
   "outputs": [],
   "source": [
    "# Save to file\n",
    "nparams = np.array(param_list)\n",
    "Path(save_data_string).mkdir(parents=True, exist_ok=True)\n",
    "np.savez( save_data_string + npzfilename, x = stationary_x_train, y = stationary_y_train, params = nparams)"
   ]
  },
  {
   "cell_type": "code",
   "execution_count": 24,
   "id": "452194ce",
   "metadata": {
    "id": "452194ce",
    "outputId": "136b2f17-b93c-4545-df2b-e435330de56a"
   },
   "outputs": [],
   "source": [
    "# Path(save_fig_string).mkdir(parents=True, exist_ok=True)\n",
    "# for i in tqdm(range(0 , len(loc_files) , int(step_size))):\n",
    "# #for i in tqdm(range(0, 100, int(step_size))): \n",
    "#     plt.figure()\n",
    "#     ax = sns.heatmap( stationary_x_train[i] , linewidth=0)\n",
    "#     plt.savefig(save_fig_string + npzfilename + loc_files[i] +\".png\")\n",
    "#     plt.close()"
   ]
  },
  {
   "cell_type": "code",
   "execution_count": 26,
   "id": "d2ea56bd",
   "metadata": {
    "id": "d2ea56bd"
   },
   "outputs": [],
   "source": [
    "# sns.heatmap( stationary_x_train[120] , linewidth=0)"
   ]
  },
  {
   "cell_type": "markdown",
   "id": "1b6e5fd7",
   "metadata": {
    "id": "1b6e5fd7"
   },
   "source": [
    "# Nonstationary data preprocessing"
   ]
  },
  {
   "cell_type": "code",
   "execution_count": 27,
   "id": "1810ba25",
   "metadata": {
    "id": "1810ba25"
   },
   "outputs": [],
   "source": [
    "# Initialization \n",
    "directory_in_str_locs = directory_in_str_locs_nonstationary\n",
    "directory_in_str_z = directory_in_str_z_nonstationary\n",
    "locs_string = locs_string_nonstationary\n",
    "z_string = z_string_nonstationary"
   ]
  },
  {
   "cell_type": "code",
   "execution_count": 28,
   "id": "f87c0164",
   "metadata": {
    "id": "f87c0164"
   },
   "outputs": [],
   "source": [
    "directory_locs = os.fsencode(directory_in_str_locs)\n",
    "data_files_locs = os.listdir(directory_locs)"
   ]
  },
  {
   "cell_type": "code",
   "execution_count": 29,
   "id": "ac5099a7",
   "metadata": {},
   "outputs": [],
   "source": [
    "location_file_list = []\n",
    "Z_file_list = []\n",
    "for path, subdirs, files in os.walk(directory_locs):\n",
    "    for name in files:\n",
    "        name_string = name.decode(\"utf-8\")\n",
    "        if name_string.startswith(locs_string): \n",
    "            location_file_path = os.path.join(path, name)\n",
    "            location_file_path = location_file_path.decode(\"utf-8\")\n",
    "            z_file_path = location_file_path.replace(locs_string, z_string, 1)\n",
    "            location_file_list.append(location_file_path)\n",
    "            Z_file_list.append(z_file_path)"
   ]
  },
  {
   "cell_type": "code",
   "execution_count": 30,
   "id": "04923c3f",
   "metadata": {
    "id": "04923c3f"
   },
   "outputs": [],
   "source": [
    "loc_files = []\n",
    "for i in range(len(location_file_list)): \n",
    "    replace_res = location_file_list[i].replace(directory_in_str_locs, \"\")\n",
    "    replace_res = replace_res.replace(\"\\\\\", \"_\")\n",
    "    loc_files.append(replace_res)"
   ]
  },
  {
   "cell_type": "code",
   "execution_count": 31,
   "id": "be53194b",
   "metadata": {
    "id": "be53194b"
   },
   "outputs": [],
   "source": [
    "# Grid row and column\n",
    "GRID_ROWS = 100\n",
    "GRID_COLS = 100\n",
    "\n",
    "# Initialization continued\n",
    "ndata = len(loc_files)\n",
    "#ndata = 100 # Test\n",
    "nonstationary_x_train = np.zeros((ndata,GRID_COLS,GRID_ROWS))\n",
    "\n",
    "nonstationary_y_train = np.ones(ndata) # Zero = the model is stationary. One = nonstationary. "
   ]
  },
  {
   "cell_type": "code",
   "execution_count": 32,
   "id": "4ae7d323",
   "metadata": {
    "id": "4ae7d323"
   },
   "outputs": [],
   "source": [
    "# Initialization continued\n",
    "param_is_stat = np.ones(ndata)\n",
    "#param_samplenum.fill(param_val_samplenum)\n",
    "param_val_is_stat = 0; # Nonstationary. \n",
    "param_is_stat.fill(param_val_is_stat)\n",
    "\n",
    "param_list = []"
   ]
  },
  {
   "cell_type": "code",
   "execution_count": 33,
   "id": "bfe18fbb",
   "metadata": {
    "id": "bfe18fbb"
   },
   "outputs": [],
   "source": [
    "# Initialization continued\n",
    "npzfilename = npzfilename_nonstationary;"
   ]
  },
  {
   "cell_type": "code",
   "execution_count": 34,
   "id": "60740dcc",
   "metadata": {},
   "outputs": [
    {
     "data": {
      "text/plain": [
       "4800"
      ]
     },
     "execution_count": 34,
     "metadata": {},
     "output_type": "execute_result"
    }
   ],
   "source": [
    "ndata"
   ]
  },
  {
   "cell_type": "code",
   "execution_count": 35,
   "id": "6b9d70cc",
   "metadata": {
    "id": "6b9d70cc",
    "outputId": "d7d84fda-72c2-45cc-8a10-96916c0c0901"
   },
   "outputs": [
    {
     "name": "stderr",
     "output_type": "stream",
     "text": [
      "100%|██████████| 4800/4800 [15:16<00:00,  5.24it/s]\n"
     ]
    }
   ],
   "source": [
    "# Main program for data preprocessing\n",
    "count = 0\n",
    "for i_folder in tqdm(range(ndata)):\n",
    "    # Append the parameter to samples. \n",
    "    param_dict = {\n",
    "        \"sample\": i_folder,\n",
    "        \"is_stat\": param_val_is_stat\n",
    "    }\n",
    "    param_list.append(param_dict)\n",
    "    #==========\n",
    "    # Data extraction\n",
    "    #===========\n",
    "    # Get paired location and observation files\n",
    "#     print(loc_files[i])\n",
    "    loc_text = loc_files[i_folder]\n",
    "    z_text = loc_text.replace(locs_string, z_string, 1)\n",
    "    # Load the location and z files\n",
    "    location_file = open(directory_in_str_locs + loc_text)\n",
    "    Z_value_file = open(directory_in_str_z + z_text)\n",
    "    locations = np.loadtxt(location_file, delimiter=',')\n",
    "    Z_values = np.loadtxt(Z_value_file, delimiter=',')\n",
    "    #==========\n",
    "    # End of data extraction\n",
    "    #==========\n",
    "    # Check if there is NaN value\n",
    "    if any(np.isnan(Z_values)) == True:\n",
    "        print(\"Warning: NaN values occur in i=\", i, \"; location file:\", loc_text)\n",
    "        Z_values[np.isnan(Z_values)] = 0\n",
    "    # Compute the output grid\n",
    "    output_arr = np.zeros((GRID_ROWS,GRID_COLS))\n",
    "    grid_sum_arr = np.zeros((GRID_ROWS,GRID_COLS))\n",
    "    grid_div_arr = np.zeros((GRID_ROWS,GRID_COLS))\n",
    "    if manual_range_locs == False:\n",
    "        # Start and end locations (Auto)\n",
    "#         print(locations[:,0],locations[:,1])\n",
    "        startx = min(locations[:, 0])\n",
    "        starty = min(locations[:, 1])\n",
    "        endx = max(locations[:, 0])\n",
    "        endy = max(locations[:, 1])\n",
    "#     print(locations)\n",
    "    locations[:,0] = (locations[:, 0] - startx)/(endx - startx)\n",
    "    locations[:,1] = (locations[:, 1] - starty)/(endy - starty)\n",
    "#     print(locations)\n",
    "    startz = min(Z_values)\n",
    "    endz = max(Z_values)\n",
    "    if(abs(endz-startz) > 100):\n",
    "        pass\n",
    "    else:\n",
    "        X = np.linspace(0, 1,GRID_COLS)\n",
    "        Y = np.linspace(0, 1,GRID_ROWS)\n",
    "        X, Y = np.meshgrid(X, Y)  # 2D grid for interpolation\n",
    "        interp = NearestNDInterpolator(locations, Z_values)\n",
    "        Z = interp(X, Y)\n",
    "    #     break\n",
    "    #     # Get the summation and division\n",
    "    #     for j in range(locations.shape[0]):\n",
    "    #         # Get the grid locations (x, y). Result: [y][x], because x is column (x=0 is the first column). \n",
    "    #         x = int(math.floor((locations[j][0] - startx) * GRID_COLS / (endx - startx)))\n",
    "    #         y = int(math.floor((locations[j][1] - starty) * GRID_ROWS / (endy - starty)))\n",
    "    #         # For boundary value problems\n",
    "    #         x = min(x, GRID_COLS - 1)\n",
    "    #         y = min(y, GRID_ROWS - 1)\n",
    "    #         val = Z_values[j]\n",
    "    #         # Add the summation and division\n",
    "    #         grid_sum_arr[y][x] = grid_sum_arr[y][x] + val\n",
    "    #         grid_div_arr[y][x] += 1\n",
    "    #     # Generate output\n",
    "    #     for j1 in range(GRID_ROWS):\n",
    "    #         for j2 in range(GRID_COLS):\n",
    "    #             if grid_div_arr[j1][j2] > 0:\n",
    "    #                 # Mean value in a cell\n",
    "    #                 output_arr[j1][j2] += (grid_sum_arr[j1][j2] / grid_div_arr[j1][j2])\n",
    "    #             else:\n",
    "    #                 # Mean value over all regions if the cell has no locations\n",
    "    #                 output_arr[j1][j2] += np.mean(Z_values)\n",
    "        if manual_range_z == False:\n",
    "            # Normalize (Auto)\n",
    "            m = np.min(Z)\n",
    "            M = np.max(Z)\n",
    "        if m == M:\n",
    "            output_arr = np.ones((GRID_ROWS,GRID_COLS)) * 0.5 # All 0.5\n",
    "        else: \n",
    "            # Range from 0 to 1. \n",
    "            Z = (Z - m) / (M - m)\n",
    "        # Save results\n",
    "        nonstationary_x_train[count] = Z\n",
    "        count = count + 1"
   ]
  },
  {
   "cell_type": "code",
   "execution_count": 33,
   "id": "cd7a6f2e",
   "metadata": {},
   "outputs": [],
   "source": [
    "# nonstationary_x_train = nonstationary_x_train[:count,:,:]"
   ]
  },
  {
   "cell_type": "code",
   "execution_count": 36,
   "id": "f8ee6c59",
   "metadata": {},
   "outputs": [
    {
     "data": {
      "text/plain": [
       "(4800, 100, 100)"
      ]
     },
     "execution_count": 36,
     "metadata": {},
     "output_type": "execute_result"
    }
   ],
   "source": [
    "nonstationary_x_train.shape"
   ]
  },
  {
   "cell_type": "code",
   "execution_count": 35,
   "id": "fa692f3b",
   "metadata": {},
   "outputs": [],
   "source": [
    "# nonstationary_x_train = nonstationary_x_train.reshape(504,100,50,2)"
   ]
  },
  {
   "cell_type": "code",
   "execution_count": 37,
   "id": "4437ed22",
   "metadata": {
    "id": "4437ed22"
   },
   "outputs": [],
   "source": [
    "# Save to file\n",
    "nparams = np.array(param_list)\n",
    "Path(save_data_string).mkdir(parents=True, exist_ok=True)\n",
    "np.savez( save_data_string + npzfilename, x = nonstationary_x_train, y = nonstationary_y_train, params = nparams)"
   ]
  },
  {
   "cell_type": "code",
   "execution_count": 38,
   "id": "ebce70a1",
   "metadata": {
    "id": "ebce70a1",
    "outputId": "6f8a8b30-77a7-4cfe-fbfb-f9c137053dc0"
   },
   "outputs": [],
   "source": [
    "# Path(save_fig_string).mkdir(parents=True, exist_ok=True)\n",
    "# for i in tqdm(range(0 , len(loc_files) , int(step_size))):\n",
    "# #for i in tqdm(range(0, 100, int(step_size))): \n",
    "#     plt.figure()\n",
    "#     ax = sns.heatmap( nonstationary_x_train[i] , linewidth=0)\n",
    "#     plt.savefig(save_fig_string + npzfilename + loc_files[i] +\".png\")\n",
    "#     plt.close()"
   ]
  },
  {
   "cell_type": "code",
   "execution_count": 48,
   "id": "bd4f534b",
   "metadata": {},
   "outputs": [
    {
     "data": {
      "text/plain": [
       "<AxesSubplot:>"
      ]
     },
     "execution_count": 48,
     "metadata": {},
     "output_type": "execute_result"
    },
    {
     "data": {
      "image/png": "[encoded data removed]",
      "text/plain": [
       "<Figure size 432x288 with 2 Axes>"
      ]
     },
     "metadata": {
      "needs_background": "light"
     },
     "output_type": "display_data"
    }
   ],
   "source": [
    "sns.heatmap( nonstationary_x_train[577] , linewidth=0)"
   ]
  },
  {
   "cell_type": "markdown",
   "id": "32267a63",
   "metadata": {
    "id": "32267a63"
   },
   "source": [
    "# Part 2: CNN Model Training"
   ]
  },
  {
   "cell_type": "code",
   "execution_count": 38,
   "id": "945c25cc",
   "metadata": {
    "id": "945c25cc"
   },
   "outputs": [],
   "source": [
    "# Train the CNN model that can determine whether a spatial data is stationary. \n",
    "# Input: \n",
    "#    Preprocessed data in npz format: stationary_npz_filename (stationary) and nonstationary_npz_filename (nonstationary). \n",
    "# \n",
    "#    Location for saving the CNN model: model_saving_location. \n",
    "# \n",
    "#    Split rate: split_size_stationary (stationary) and split_size_nonstationary (nonstationary). \n",
    "#                The training data will be split following the split size. \n",
    "#                For instance, when split_size_stationary = 0.8, \n",
    "#                then 80% stationary data is the training data, and the rest 20% are the test data. \n",
    "# \n",
    "# Output: \n",
    "#    Trained CNN model saved in model_saving_location. \n",
    "#    Histogram and outlines for the correct rate of the CNN training model. "
   ]
  },
  {
   "cell_type": "markdown",
   "id": "6f2f170e",
   "metadata": {
    "id": "6f2f170e"
   },
   "source": [
    "# Inputs"
   ]
  },
  {
   "cell_type": "code",
   "execution_count": 39,
   "id": "9b10468a",
   "metadata": {
    "id": "9b10468a"
   },
   "outputs": [],
   "source": [
    "# Filename for preprocessing data (.npz format)\n",
    "stationary_npz_filename = save_data_string + npzfilename_stationary\n",
    "nonstationary_npz_filename = save_data_string + npzfilename_nonstationary"
   ]
  },
  {
   "cell_type": "code",
   "execution_count": 40,
   "id": "2ca4dda4",
   "metadata": {
    "id": "2ca4dda4"
   },
   "outputs": [],
   "source": [
    "# Places for location saving\n",
    "model_saving_location = 'Model_Example'"
   ]
  },
  {
   "cell_type": "code",
   "execution_count": 41,
   "id": "ba465f77",
   "metadata": {
    "id": "ba465f77"
   },
   "outputs": [],
   "source": [
    "# Split rate for stationary data\n",
    "split_size_stationary = 0.7\n",
    "# Split rate for nonstationary data\n",
    "split_size_nonstationary = 0.8"
   ]
  },
  {
   "cell_type": "markdown",
   "id": "d39f189a",
   "metadata": {
    "id": "d39f189a"
   },
   "source": [
    "# Loading Data"
   ]
  },
  {
   "cell_type": "code",
   "execution_count": 42,
   "id": "ffc13616",
   "metadata": {
    "id": "ffc13616",
    "outputId": "28541387-3746-489c-a8ec-4efaf7fc55b3"
   },
   "outputs": [
    {
     "name": "stdout",
     "output_type": "stream",
     "text": [
      "(3428, 100, 100)\n"
     ]
    }
   ],
   "source": [
    "# Stationary data - load npz file\n",
    "npzfile = np.load(stationary_npz_filename, allow_pickle=True)\n",
    "stationary_x_all = npzfile['x'] # Preprocessed data\n",
    "stationary_y_all = npzfile['y'] # Stationary or nonstationary\n",
    "stationary_params = npzfile['params']\n",
    "print(stationary_x_all.shape)"
   ]
  },
  {
   "cell_type": "code",
   "execution_count": 43,
   "id": "dd88d38f",
   "metadata": {
    "id": "dd88d38f",
    "outputId": "40b9b8f3-0bdb-42ee-9203-ef2f3cd5de7a"
   },
   "outputs": [
    {
     "name": "stdout",
     "output_type": "stream",
     "text": [
      "(4800, 100, 100)\n"
     ]
    }
   ],
   "source": [
    "# Nonstationary data - load npz file\n",
    "npzfile = np.load(nonstationary_npz_filename, allow_pickle=True)\n",
    "tx = npzfile['x']\n",
    "nonstationary_x_all = npzfile['x'] # Preprocessed data\n",
    "nonstationary_y_all = npzfile['y'] # Stationary or nonstationary\n",
    "nonstationary_params = npzfile['params']\n",
    "print(nonstationary_x_all.shape)"
   ]
  },
  {
   "cell_type": "markdown",
   "id": "9669e785",
   "metadata": {
    "id": "9669e785"
   },
   "source": [
    "# Randomising and Splitting Data"
   ]
  },
  {
   "cell_type": "code",
   "execution_count": 44,
   "id": "95a09403",
   "metadata": {
    "id": "95a09403",
    "outputId": "83f61a61-2d08-4dc2-c330-0652d4ff55ee"
   },
   "outputs": [
    {
     "name": "stdout",
     "output_type": "stream",
     "text": [
      "2399\n",
      "1029\n",
      "3840\n",
      "960\n"
     ]
    }
   ],
   "source": [
    "# Split for stationary data\n",
    "total_size_stationary = int(len(stationary_x_all))\n",
    "training_size_stationary = int(total_size_stationary * split_size_stationary)\n",
    "test_size_stationary = total_size_stationary - training_size_stationary\n",
    "print(training_size_stationary)\n",
    "print(test_size_stationary)\n",
    "\n",
    "# Split for nonstationary data\n",
    "total_size_nonstationary = int(len(nonstationary_x_all))\n",
    "training_size_nonstationary = int(total_size_nonstationary * split_size_nonstationary)\n",
    "test_size_nonstationary = total_size_nonstationary - training_size_nonstationary\n",
    "print(training_size_nonstationary)\n",
    "print(test_size_nonstationary)"
   ]
  },
  {
   "cell_type": "code",
   "execution_count": 45,
   "id": "4a6745db",
   "metadata": {
    "id": "4a6745db"
   },
   "outputs": [],
   "source": [
    "# Shuffler for stationary and nonstationary\n",
    "random.seed(220)\n",
    "shuffler_stationary = random.sample(range(total_size_stationary), total_size_stationary)\n",
    "shuffler_nonstationary = random.sample(range(total_size_nonstationary), total_size_nonstationary)"
   ]
  },
  {
   "cell_type": "code",
   "execution_count": 46,
   "id": "2f0b2f56",
   "metadata": {
    "id": "2f0b2f56"
   },
   "outputs": [],
   "source": [
    "# Shuffle data\n",
    "GRID_ROWS = 100\n",
    "GRID_COLS = 100\n",
    "stationary_x_shuffled = stationary_x_all[shuffler_stationary, 0:GRID_ROWS, 0:GRID_COLS]\n",
    "stationary_y_shuffled = stationary_y_all[shuffler_stationary]\n",
    "stationary_params_shuffled = stationary_params[shuffler_stationary, ]\n",
    "nonstationary_x_shuffled = nonstationary_x_all[shuffler_nonstationary, 0:GRID_ROWS, 0:GRID_COLS]\n",
    "nonstationary_y_shuffled = nonstationary_y_all[shuffler_nonstationary]\n",
    "nonstationary_params_shuffled = nonstationary_params[shuffler_nonstationary, ]"
   ]
  },
  {
   "cell_type": "code",
   "execution_count": 47,
   "id": "14f5b2c0",
   "metadata": {
    "id": "14f5b2c0"
   },
   "outputs": [],
   "source": [
    "# List of shuffled file names - if someone wants copying files\n",
    "# Stationary\n",
    "#loc_folder = [f for f in os.listdir(directory_in_str_locs_stationary)]\n",
    "#loc_folder_stationary_shuffled = [loc_folder[i] for i in shuffler_stationary]\n",
    "# loc_files_stationary_shuffled = [location_file_list[i] for i in shuffler_stationary]\n",
    "# z_files_stationary_shuffled = [Z_file_list[i] for i in shuffler_stationary]\n",
    "# # Nonstationary\n",
    "# loc_files = [f for f in os.listdir(directory_in_str_locs_nonstationary) if f.startswith(locs_string_nonstationary)]\n",
    "# z_files = [f for f in os.listdir(directory_in_str_z_nonstationary) if f.startswith(z_string_nonstationary)]\n",
    "# loc_files_nonstationary_shuffled = [loc_files[i] for i in shuffler_nonstationary]\n",
    "# z_files_nonstationary_shuffled = [z_files[i] for i in shuffler_nonstationary]"
   ]
  },
  {
   "cell_type": "code",
   "execution_count": 48,
   "id": "078ef0b4",
   "metadata": {
    "id": "078ef0b4"
   },
   "outputs": [],
   "source": [
    "# Copying files\n",
    "#loc_test_stationary_copyfolder = \"D:/Research2021-C/Pratik项目/0406Processed_Data/LOCS_Test_Stationary/\"\n",
    "#loc_test_nonstationary_copyfolder = \"D:/Research2021-C/Pratik项目/0406Processed_Data/LOCS_Test_Nonstationary/\"\n",
    "#z_test_stationary_copyfolder = \"D:/Research2021-C/Pratik项目/0406Processed_Data/Z_Test_Stationary/\"\n",
    "#z_test_nonstationary_copyfolder = \"D:/Research2021-C/Pratik项目/0406Processed_Data/Z_Test_Nonstationary/\"\n",
    "#Path(loc_test_stationary_copyfolder).mkdir(parents=True, exist_ok=True)\n",
    "#Path(loc_test_nonstationary_copyfolder).mkdir(parents=True, exist_ok=True)\n",
    "#Path(z_test_stationary_copyfolder).mkdir(parents=True, exist_ok=True)\n",
    "#Path(z_test_nonstationary_copyfolder).mkdir(parents=True, exist_ok=True)\n",
    "# List of files for copying (Test data only)\n",
    "#loc_test_files_stationary = loc_files_stationary_shuffled[training_size_stationary:]\n",
    "#loc_test_files_nonstationary = loc_files_nonstationary_shuffled[training_size_nonstationary:]\n",
    "#z_test_files_stationary = z_files_stationary_shuffled[training_size_stationary:]\n",
    "#z_test_files_nonstationary = z_files_nonstationary_shuffled[training_size_nonstationary:]"
   ]
  },
  {
   "cell_type": "code",
   "execution_count": 49,
   "id": "4ffd14d5",
   "metadata": {
    "id": "4ffd14d5"
   },
   "outputs": [],
   "source": [
    "#import shutil # copy files\n",
    "# Location files for stationary data\n",
    "#for i in tqdm(range(len(loc_test_files_stationary))):\n",
    "    # Get paired location and observation files\n",
    "    #loc_text = loc_test_files_stationary[i]\n",
    "    #loc_old_name = directory_in_str_locs_stationary + loc_text \n",
    "    #loc_new_name = loc_test_stationary_copyfolder + loc_text \n",
    "    # Copy\n",
    "    #shutil.copy(loc_old_name, loc_new_name)"
   ]
  },
  {
   "cell_type": "code",
   "execution_count": 50,
   "id": "16f6c5d3",
   "metadata": {
    "id": "16f6c5d3"
   },
   "outputs": [],
   "source": [
    "# Z files for stationary data\n",
    "#for i in tqdm(range(len(z_test_files_stationary))):\n",
    "    # Get paired location and observation files\n",
    "    #z_text = z_test_files_stationary[i]\n",
    "    #z_old_name = directory_in_str_z_stationary + z_text \n",
    "    #z_new_name = z_test_stationary_copyfolder + z_text \n",
    "    # Copy\n",
    "    #shutil.copy(z_old_name, z_new_name)"
   ]
  },
  {
   "cell_type": "code",
   "execution_count": 51,
   "id": "9e7ba370",
   "metadata": {
    "id": "9e7ba370"
   },
   "outputs": [],
   "source": [
    "# Location files for nonstationary data\n",
    "#for i in tqdm(range(len(loc_test_files_nonstationary))):\n",
    "    # Get paired location and observation files\n",
    "    #loc_text = loc_test_files_nonstationary[i]\n",
    "    #loc_old_name = directory_in_str_locs_nonstationary + loc_text \n",
    "    #loc_new_name = loc_test_nonstationary_copyfolder + loc_text \n",
    "    # Copy\n",
    "    #shutil.copy(loc_old_name, loc_new_name)"
   ]
  },
  {
   "cell_type": "code",
   "execution_count": 52,
   "id": "c6778621",
   "metadata": {
    "id": "c6778621"
   },
   "outputs": [],
   "source": [
    "# Z files for nonstationary data\n",
    "#for i in tqdm(range(len(z_test_files_nonstationary))):\n",
    "    # Get paired location and observation files\n",
    "    #z_text = z_test_files_nonstationary[i]\n",
    "    #z_old_name = directory_in_str_z_nonstationary + z_text \n",
    "    #z_new_name = z_test_nonstationary_copyfolder + z_text \n",
    "    # Copy\n",
    "    #shutil.copy(z_old_name, z_new_name)"
   ]
  },
  {
   "cell_type": "code",
   "execution_count": 53,
   "id": "b84be092",
   "metadata": {
    "id": "b84be092"
   },
   "outputs": [],
   "source": [
    "# Training data\n",
    "stationary_x_train = stationary_x_shuffled[0:training_size_stationary, 0:GRID_ROWS, 0:GRID_COLS]\n",
    "stationary_y_train = stationary_y_shuffled[0:training_size_stationary]\n",
    "stationary_params_train = stationary_params_shuffled[0:training_size_stationary, ]\n",
    "nonstationary_x_train = nonstationary_x_shuffled[0:training_size_nonstationary, 0:GRID_ROWS, 0:GRID_COLS]\n",
    "nonstationary_y_train = nonstationary_y_shuffled[0:training_size_nonstationary]\n",
    "nonstationary_params_train = nonstationary_params_shuffled[0:training_size_nonstationary, ]\n",
    "# Test data\n",
    "stationary_x_test = stationary_x_shuffled[training_size_stationary:, 0:GRID_ROWS, 0:GRID_COLS]\n",
    "stationary_y_test = stationary_y_shuffled[training_size_stationary:]\n",
    "stationary_params_test = stationary_params_shuffled[training_size_stationary:, ]\n",
    "nonstationary_x_test = nonstationary_x_shuffled[training_size_nonstationary:, 0:GRID_ROWS, 0:GRID_COLS]\n",
    "nonstationary_y_test = nonstationary_y_shuffled[training_size_nonstationary:]\n",
    "nonstationary_params_test = nonstationary_params_shuffled[training_size_nonstationary:, ]\n",
    "# Combine\n",
    "x_train = np.concatenate((stationary_x_train,nonstationary_x_train))\n",
    "y_train = np.concatenate((stationary_y_train,nonstationary_y_train))\n",
    "params_train = np.concatenate((stationary_params_train,nonstationary_params_train))\n",
    "x_test = np.concatenate((stationary_x_test,nonstationary_x_test))\n",
    "y_test = np.concatenate((stationary_y_test,nonstationary_y_test))\n",
    "params_test = np.concatenate((stationary_params_test,nonstationary_params_test))"
   ]
  },
  {
   "cell_type": "code",
   "execution_count": 55,
   "id": "14c863e1",
   "metadata": {},
   "outputs": [
    {
     "data": {
      "text/plain": [
       "(6239, 100, 100)"
      ]
     },
     "execution_count": 55,
     "metadata": {},
     "output_type": "execute_result"
    }
   ],
   "source": [
    "x_train.shape\n"
   ]
  },
  {
   "cell_type": "code",
   "execution_count": 56,
   "id": "64cb6e99",
   "metadata": {
    "id": "64cb6e99"
   },
   "outputs": [],
   "source": [
    "# Add a channels dimension\n",
    "# x_train = x_train[..., tf.newaxis].astype(\"float32\")\n",
    "# x_test = x_test[..., tf.newaxis].astype(\"float32\")\n",
    "x_train = x_train.reshape(6239, 100, 100, 1)\n",
    "x_test = x_test.reshape(1989, 100, 100, 1)"
   ]
  },
  {
   "cell_type": "code",
   "execution_count": 57,
   "id": "502ca71f",
   "metadata": {
    "id": "502ca71f",
    "outputId": "ae794f5d-e0d2-4e76-e040-af9b7c4a4476"
   },
   "outputs": [
    {
     "name": "stdout",
     "output_type": "stream",
     "text": [
      "(6239, 100, 100, 1)\n",
      "(1989, 100, 100, 1)\n"
     ]
    }
   ],
   "source": [
    "print(x_train.shape)\n",
    "print(x_test.shape)"
   ]
  },
  {
   "cell_type": "code",
   "execution_count": 58,
   "id": "312ccf36",
   "metadata": {},
   "outputs": [],
   "source": [
    "y_train = to_categorical(y_train)\n",
    "y_test = to_categorical(y_test)"
   ]
  },
  {
   "cell_type": "code",
   "execution_count": 59,
   "id": "89dce71e",
   "metadata": {},
   "outputs": [
    {
     "data": {
      "text/plain": [
       "(1989, 2)"
      ]
     },
     "execution_count": 59,
     "metadata": {},
     "output_type": "execute_result"
    }
   ],
   "source": [
    "y_test.shape"
   ]
  },
  {
   "cell_type": "markdown",
   "id": "1ea0f2a7",
   "metadata": {
    "id": "1ea0f2a7"
   },
   "source": [
    "# Start training model"
   ]
  },
  {
   "cell_type": "code",
   "execution_count": 60,
   "id": "7734608f",
   "metadata": {
    "id": "7734608f"
   },
   "outputs": [
    {
     "name": "stderr",
     "output_type": "stream",
     "text": [
      "2023-03-29 16:23:19.623296: I tensorflow/compiler/jit/xla_cpu_device.cc:41] Not creating XLA devices, tf_xla_enable_xla_devices not set\n",
      "2023-03-29 16:23:19.630287: I tensorflow/stream_executor/platform/default/dso_loader.cc:49] Successfully opened dynamic library libcuda.so.1\n",
      "2023-03-29 16:23:19.751231: I tensorflow/core/common_runtime/gpu/gpu_device.cc:1720] Found device 0 with properties: \n",
      "pciBusID: 0000:b2:00.0 name: Tesla V100-SXM2-32GB computeCapability: 7.0\n",
      "coreClock: 1.53GHz coreCount: 80 deviceMemorySize: 31.75GiB deviceMemoryBandwidth: 836.37GiB/s\n",
      "2023-03-29 16:23:19.751283: I tensorflow/stream_executor/platform/default/dso_loader.cc:49] Successfully opened dynamic library libcudart.so.11.0\n",
      "2023-03-29 16:23:19.881668: I tensorflow/stream_executor/platform/default/dso_loader.cc:49] Successfully opened dynamic library libcublas.so.11\n",
      "2023-03-29 16:23:19.881822: I tensorflow/stream_executor/platform/default/dso_loader.cc:49] Successfully opened dynamic library libcublasLt.so.11\n",
      "2023-03-29 16:23:19.939914: I tensorflow/stream_executor/platform/default/dso_loader.cc:49] Successfully opened dynamic library libcufft.so.10\n",
      "2023-03-29 16:23:19.981512: I tensorflow/stream_executor/platform/default/dso_loader.cc:49] Successfully opened dynamic library libcurand.so.10\n",
      "2023-03-29 16:23:20.124826: I tensorflow/stream_executor/platform/default/dso_loader.cc:49] Successfully opened dynamic library libcusolver.so.10\n",
      "2023-03-29 16:23:20.178190: I tensorflow/stream_executor/platform/default/dso_loader.cc:49] Successfully opened dynamic library libcusparse.so.11\n",
      "2023-03-29 16:23:20.199099: I tensorflow/stream_executor/platform/default/dso_loader.cc:49] Successfully opened dynamic library libcudnn.so.8\n",
      "2023-03-29 16:23:20.212251: I tensorflow/core/common_runtime/gpu/gpu_device.cc:1862] Adding visible gpu devices: 0\n",
      "2023-03-29 16:23:20.236828: I tensorflow/core/platform/cpu_feature_guard.cc:142] This TensorFlow binary is optimized with oneAPI Deep Neural Network Library (oneDNN) to use the following CPU instructions in performance-critical operations:  AVX512F\n",
      "To enable them in other operations, rebuild TensorFlow with the appropriate compiler flags.\n",
      "2023-03-29 16:23:20.237271: I tensorflow/compiler/jit/xla_gpu_device.cc:99] Not creating XLA devices, tf_xla_enable_xla_devices not set\n",
      "2023-03-29 16:23:20.238663: I tensorflow/core/common_runtime/gpu/gpu_device.cc:1720] Found device 0 with properties: \n",
      "pciBusID: 0000:b2:00.0 name: Tesla V100-SXM2-32GB computeCapability: 7.0\n",
      "coreClock: 1.53GHz coreCount: 80 deviceMemorySize: 31.75GiB deviceMemoryBandwidth: 836.37GiB/s\n",
      "2023-03-29 16:23:20.238722: I tensorflow/stream_executor/platform/default/dso_loader.cc:49] Successfully opened dynamic library libcudart.so.11.0\n",
      "2023-03-29 16:23:20.238754: I tensorflow/stream_executor/platform/default/dso_loader.cc:49] Successfully opened dynamic library libcublas.so.11\n",
      "2023-03-29 16:23:20.238771: I tensorflow/stream_executor/platform/default/dso_loader.cc:49] Successfully opened dynamic library libcublasLt.so.11\n",
      "2023-03-29 16:23:20.238788: I tensorflow/stream_executor/platform/default/dso_loader.cc:49] Successfully opened dynamic library libcufft.so.10\n",
      "2023-03-29 16:23:20.238805: I tensorflow/stream_executor/platform/default/dso_loader.cc:49] Successfully opened dynamic library libcurand.so.10\n",
      "2023-03-29 16:23:20.238821: I tensorflow/stream_executor/platform/default/dso_loader.cc:49] Successfully opened dynamic library libcusolver.so.10\n",
      "2023-03-29 16:23:20.238838: I tensorflow/stream_executor/platform/default/dso_loader.cc:49] Successfully opened dynamic library libcusparse.so.11\n",
      "2023-03-29 16:23:20.238854: I tensorflow/stream_executor/platform/default/dso_loader.cc:49] Successfully opened dynamic library libcudnn.so.8\n",
      "2023-03-29 16:23:20.240004: I tensorflow/core/common_runtime/gpu/gpu_device.cc:1862] Adding visible gpu devices: 0\n",
      "2023-03-29 16:23:20.256762: I tensorflow/stream_executor/platform/default/dso_loader.cc:49] Successfully opened dynamic library libcudart.so.11.0\n",
      "2023-03-29 16:23:24.370992: I tensorflow/core/common_runtime/gpu/gpu_device.cc:1261] Device interconnect StreamExecutor with strength 1 edge matrix:\n",
      "2023-03-29 16:23:24.371035: I tensorflow/core/common_runtime/gpu/gpu_device.cc:1267]      0 \n",
      "2023-03-29 16:23:24.371048: I tensorflow/core/common_runtime/gpu/gpu_device.cc:1280] 0:   N \n",
      "2023-03-29 16:23:24.388840: I tensorflow/core/common_runtime/gpu/gpu_device.cc:1406] Created TensorFlow device (/job:localhost/replica:0/task:0/device:GPU:0 with 30129 MB memory) -> physical GPU (device: 0, name: Tesla V100-SXM2-32GB, pci bus id: 0000:b2:00.0, compute capability: 7.0)\n"
     ]
    }
   ],
   "source": [
    "training_size = x_train.shape[0]\n",
    "train_ds = tf.data.Dataset.from_tensor_slices(\n",
    "    (x_train, y_train)).shuffle(training_size).batch(256)\n",
    "\n",
    "test_ds = tf.data.Dataset.from_tensor_slices((x_test, y_test)).batch(256)"
   ]
  },
  {
   "cell_type": "code",
   "execution_count": 61,
   "id": "7da97a04",
   "metadata": {
    "id": "7da97a04",
    "outputId": "9885867d-b113-4679-fee5-e1e0f79cce6d"
   },
   "outputs": [
    {
     "name": "stdout",
     "output_type": "stream",
     "text": [
      "<class 'tensorflow.python.data.ops.dataset_ops.BatchDataset'>\n"
     ]
    }
   ],
   "source": [
    "print(type(train_ds))"
   ]
  },
  {
   "cell_type": "markdown",
   "id": "b32129af",
   "metadata": {
    "id": "b32129af"
   },
   "source": [
    "# Model"
   ]
  },
  {
   "cell_type": "code",
   "execution_count": 62,
   "id": "779934a5",
   "metadata": {},
   "outputs": [],
   "source": [
    "#create model\n",
    "\n",
    "# model = Sequential()\n",
    "# #add model layers\n",
    "# # model.add(Conv2D(64, kernel_size=3, activation=\"relu\", input_shape=(100, 100, 1)))\n",
    "# model.add(Conv2D(32, kernel_size=3, activation=\"relu\"))\n",
    "# model.add(Flatten())\n",
    "# model.add(Dense(128, activation='relu'))\n",
    "# model.add(Dense(2, activation='softmax'))"
   ]
  },
  {
   "cell_type": "code",
   "execution_count": 63,
   "id": "bc3409de",
   "metadata": {},
   "outputs": [],
   "source": [
    "#compile model using accuracy to measure model performance\n",
    "# model.compile(optimizer='adam', loss='categorical_crossentropy', metrics=['accuracy'])"
   ]
  },
  {
   "cell_type": "code",
   "execution_count": 64,
   "id": "22b30bc3",
   "metadata": {},
   "outputs": [],
   "source": [
    "#train the model\n",
    "# model.fit(x_train, y_train, validation_data=(x_test, y_test), epochs=20, batch_size = 128, verbose = 2)"
   ]
  },
  {
   "cell_type": "code",
   "execution_count": 65,
   "id": "d541c856",
   "metadata": {},
   "outputs": [],
   "source": [
    "# y_test"
   ]
  },
  {
   "cell_type": "code",
   "execution_count": 66,
   "id": "5bc18589",
   "metadata": {
    "id": "5bc18589"
   },
   "outputs": [
    {
     "name": "stderr",
     "output_type": "stream",
     "text": [
      "2023-03-29 16:23:52.471565: I tensorflow/compiler/mlir/mlir_graph_optimization_pass.cc:116] None of the MLIR optimization passes are enabled (registered 2)\n",
      "2023-03-29 16:23:52.474933: I tensorflow/core/platform/profile_utils/cpu_utils.cc:112] CPU Frequency: 2400000000 Hz\n",
      "2023-03-29 16:23:52.740737: I tensorflow/stream_executor/platform/default/dso_loader.cc:49] Successfully opened dynamic library libcublas.so.11\n",
      "2023-03-29 16:23:54.658020: I tensorflow/stream_executor/platform/default/dso_loader.cc:49] Successfully opened dynamic library libcublasLt.so.11\n",
      "2023-03-29 16:23:54.704841: I tensorflow/stream_executor/platform/default/dso_loader.cc:49] Successfully opened dynamic library libcudnn.so.8\n"
     ]
    },
    {
     "name": "stdout",
     "output_type": "stream",
     "text": [
      "Epoch 1, Loss: 3.304684638977051, Accuracy: 62.09328079223633, Test Loss: 0.6137932538986206, Test Accuracy: 68.12468719482422\n",
      "Epoch 2, Loss: 0.6141421794891357, Accuracy: 72.22311401367188, Test Loss: 0.522335946559906, Test Accuracy: 82.75515747070312\n",
      "Epoch 3, Loss: 0.5081920027732849, Accuracy: 84.58086395263672, Test Loss: 0.40589988231658936, Test Accuracy: 89.2408218383789\n",
      "Epoch 4, Loss: 0.2329639494419098, Accuracy: 90.7036361694336, Test Loss: 0.1603361815214157, Test Accuracy: 91.25188446044922\n",
      "Epoch 5, Loss: 0.09757588058710098, Accuracy: 93.04375457763672, Test Loss: 0.08673006296157837, Test Accuracy: 91.45299530029297\n",
      "Epoch 6, Loss: 0.0730970948934555, Accuracy: 93.30020904541016, Test Loss: 0.07660165429115295, Test Accuracy: 91.55354309082031\n",
      "Epoch 7, Loss: 0.06429833173751831, Accuracy: 93.41240692138672, Test Loss: 0.07124018669128418, Test Accuracy: 91.55354309082031\n",
      "Epoch 8, Loss: 0.05881090462207794, Accuracy: 93.46048736572266, Test Loss: 0.06839580833911896, Test Accuracy: 91.65409851074219\n",
      "Epoch 9, Loss: 0.05664743110537529, Accuracy: 93.47651672363281, Test Loss: 0.0657326877117157, Test Accuracy: 91.65409851074219\n",
      "Epoch 10, Loss: 0.05361295863986015, Accuracy: 93.47651672363281, Test Loss: 0.06500079482793808, Test Accuracy: 91.65409851074219\n",
      "Epoch 11, Loss: 0.05160694569349289, Accuracy: 93.47651672363281, Test Loss: 0.061837274581193924, Test Accuracy: 91.65409851074219\n",
      "Epoch 12, Loss: 0.05012064054608345, Accuracy: 94.19778442382812, Test Loss: 0.06088617816567421, Test Accuracy: 99.79889678955078\n",
      "Epoch 13, Loss: 0.04942115768790245, Accuracy: 99.83971405029297, Test Loss: 0.0594823881983757, Test Accuracy: 99.89944458007812\n",
      "Epoch 14, Loss: 0.04792968928813934, Accuracy: 99.87177276611328, Test Loss: 0.05854082107543945, Test Accuracy: 99.89944458007812\n",
      "Epoch 15, Loss: 0.04682011902332306, Accuracy: 99.85574340820312, Test Loss: 0.05741129815578461, Test Accuracy: 100.0\n",
      "Epoch 16, Loss: 0.0459822379052639, Accuracy: 99.9358901977539, Test Loss: 0.05680220574140549, Test Accuracy: 100.0\n",
      "Epoch 17, Loss: 0.045667294412851334, Accuracy: 99.96794128417969, Test Loss: 0.05596332997083664, Test Accuracy: 100.0\n",
      "Epoch 18, Loss: 0.04418105632066727, Accuracy: 99.95191955566406, Test Loss: 0.054860297590494156, Test Accuracy: 99.89944458007812\n",
      "Epoch 19, Loss: 0.04669898375868797, Accuracy: 99.77560424804688, Test Loss: 0.054738182574510574, Test Accuracy: 100.0\n",
      "Epoch 20, Loss: 0.04406869038939476, Accuracy: 99.95191955566406, Test Loss: 0.0531759038567543, Test Accuracy: 100.0\n"
     ]
    }
   ],
   "source": [
    "class MyModel(Model):\n",
    "  def __init__(self):\n",
    "    super(MyModel, self).__init__()\n",
    "    self.conv1 = Conv2D(32, 3, activation='relu')\n",
    "    self.flatten = Flatten()\n",
    "    self.d1 = Dense(128, activation='relu')\n",
    "    self.d2 = Dense(2, activation='softmax')\n",
    "\n",
    "  def call(self, x):\n",
    "    x = self.conv1(x)\n",
    "    x = self.flatten(x)\n",
    "    x = self.d1(x)\n",
    "    return self.d2(x)\n",
    "\n",
    "# Create an instance of the model\n",
    "model = MyModel()\n",
    "\n",
    "# Categorical Cross entropy loss to for classification\n",
    "loss_object = tf.keras.losses.CategoricalCrossentropy(from_logits=True)\n",
    "\n",
    "# Adaptive Learning rate\n",
    "optimizer = tf.keras.optimizers.Adam()\n",
    "\n",
    "train_loss = tf.keras.metrics.Mean(name='train_loss')\n",
    "train_accuracy = tf.keras.metrics.CategoricalAccuracy(name='train_accuracy')\n",
    "\n",
    "test_loss = tf.keras.metrics.Mean(name='test_loss')\n",
    "test_accuracy = tf.keras.metrics.CategoricalAccuracy(name='test_accuracy')\n",
    "\n",
    "# Gradient Descent\n",
    "@tf.function\n",
    "def train_step(images, labels):\n",
    "  with tf.GradientTape() as tape:\n",
    "    # training=True is only needed when a more complex architecture\n",
    "    # is implemented\n",
    "    predictions = model(images)\n",
    "    loss = loss_object(labels, predictions)\n",
    "  gradients = tape.gradient(loss, model.trainable_variables)\n",
    "  optimizer.apply_gradients(zip(gradients, model.trainable_variables))\n",
    "\n",
    "  train_loss(loss)\n",
    "  train_accuracy(labels, predictions)\n",
    "\n",
    "@tf.function\n",
    "def test_step(images, labels):\n",
    "  # training=False is only needed if there are layers with different\n",
    "  # behavior during training versus inference (e.g. Dropout).\n",
    "  predictions = model(images)\n",
    "  t_loss = loss_object(labels, predictions)\n",
    "\n",
    "  test_loss(t_loss)\n",
    "  test_accuracy(labels, predictions)\n",
    "\n",
    "# test_ds\n",
    "\n",
    "EPOCHS = 20 # Original: epochs = 25. \n",
    "\n",
    "#training_seed = 1001 # Suhas training\n",
    "#random.seed(training_seed)\n",
    "#tf.random.set_seed(training_seed) # Random seed doesn't work? \n",
    "for epoch in range(EPOCHS):\n",
    "#     print(epoch)\n",
    "  # Reset the metrics at the start of the next epoch\n",
    "    train_loss.reset_states()\n",
    "    train_accuracy.reset_states()\n",
    "    test_loss.reset_states()\n",
    "    test_accuracy.reset_states()\n",
    "#     print(epoch)\n",
    "    for images, labels in train_ds:\n",
    "        train_step(images, labels)\n",
    "\n",
    "    for test_images, test_labels in test_ds:\n",
    "        test_step(test_images, test_labels)\n",
    "\n",
    "    print(\n",
    "         f'Epoch {epoch + 1}, '\n",
    "         f'Loss: {train_loss.result()}, '\n",
    "         f'Accuracy: {train_accuracy.result() * 100}, '\n",
    "         f'Test Loss: {test_loss.result()}, '\n",
    "         f'Test Accuracy: {test_accuracy.result() * 100}'\n",
    "         )"
   ]
  },
  {
   "cell_type": "code",
   "execution_count": 67,
   "id": "3f71d6ab",
   "metadata": {
    "id": "3f71d6ab",
    "outputId": "db237513-0ff0-4a53-de92-e8eb8b9bc284"
   },
   "outputs": [
    {
     "name": "stdout",
     "output_type": "stream",
     "text": [
      "Model: \"my_model\"\n",
      "_________________________________________________________________\n",
      "Layer (type)                 Output Shape              Param #   \n",
      "=================================================================\n",
      "conv2d (Conv2D)              multiple                  320       \n",
      "_________________________________________________________________\n",
      "flatten (Flatten)            multiple                  0         \n",
      "_________________________________________________________________\n",
      "dense (Dense)                multiple                  39338112  \n",
      "_________________________________________________________________\n",
      "dense_1 (Dense)              multiple                  258       \n",
      "=================================================================\n",
      "Total params: 39,338,690\n",
      "Trainable params: 39,338,690\n",
      "Non-trainable params: 0\n",
      "_________________________________________________________________\n"
     ]
    }
   ],
   "source": [
    "# Summary of the model\n",
    "\n",
    "model.summary()"
   ]
  },
  {
   "cell_type": "code",
   "execution_count": 68,
   "id": "d4728c97",
   "metadata": {},
   "outputs": [
    {
     "name": "stderr",
     "output_type": "stream",
     "text": [
      "2023-03-29 16:26:28.554035: W tensorflow/python/util/util.cc:348] Sets are not currently considered sequences, but this may change in the future, so consider avoiding using them.\n"
     ]
    },
    {
     "name": "stdout",
     "output_type": "stream",
     "text": [
      "INFO:tensorflow:Assets written to: Model_Example/assets\n"
     ]
    }
   ],
   "source": [
    "# model.save(\"my_model\")\n",
    "model.save(model_saving_location, save_format='tf')"
   ]
  },
  {
   "cell_type": "code",
   "execution_count": 69,
   "id": "b5a00a50",
   "metadata": {},
   "outputs": [
    {
     "data": {
      "text/plain": [
       "'Model_Example'"
      ]
     },
     "execution_count": 69,
     "metadata": {},
     "output_type": "execute_result"
    }
   ],
   "source": [
    "model_saving_location\n"
   ]
  },
  {
   "cell_type": "code",
   "execution_count": 70,
   "id": "dc6f9e18",
   "metadata": {},
   "outputs": [
    {
     "data": {
      "text/plain": [
       "'Model_Example'"
      ]
     },
     "execution_count": 70,
     "metadata": {},
     "output_type": "execute_result"
    }
   ],
   "source": [
    "model_saving_location"
   ]
  },
  {
   "cell_type": "markdown",
   "id": "5fd910d5",
   "metadata": {
    "id": "5fd910d5"
   },
   "source": [
    "# Model testing"
   ]
  },
  {
   "cell_type": "code",
   "execution_count": 68,
   "id": "fe1fd2b5",
   "metadata": {
    "id": "a2ef40d6"
   },
   "outputs": [
    {
     "name": "stderr",
     "output_type": "stream",
     "text": [
      "100%|██████████| 5/5 [00:01<00:00,  2.54it/s]\n"
     ]
    }
   ],
   "source": [
    "# Folder places and filenames\n",
    "# Stationary\n",
    "directory_in_str_locs_stationary = \"real_data/\"\n",
    "directory_in_str_z_stationary = \"real_data/\"\n",
    "locs_string_stationary = \"LOC_\" # LOC_3600_sample_1.txt, LOC_3600_sample_2.txt, ...\n",
    "z_string_stationary = \"Z_\" # Z_3600_sample_1.txt, Z_3600_sample_2.txt, ...\n",
    "\n",
    "\n",
    "\n",
    "# Initialization \n",
    "directory_in_str_locs = directory_in_str_locs_stationary\n",
    "directory_in_str_z = directory_in_str_z_stationary\n",
    "locs_string = locs_string_stationary\n",
    "z_string = z_string_stationary\n",
    "\n",
    "directory_locs = os.fsencode(directory_in_str_locs)\n",
    "data_folder1_locs = os.listdir(directory_locs)\n",
    "\n",
    "location_file_list = []\n",
    "Z_file_list = []\n",
    "for path, subdirs, files in os.walk(directory_locs):\n",
    "    for name in files:\n",
    "        name_string = name.decode(\"utf-8\")\n",
    "        if name_string.startswith(locs_string): \n",
    "            location_file_path = os.path.join(path, name)\n",
    "            location_file_path = location_file_path.decode(\"utf-8\")\n",
    "            z_file_path = location_file_path.replace(locs_string, z_string, 1)\n",
    "            location_file_list.append(location_file_path)\n",
    "            Z_file_list.append(z_file_path)\n",
    "\n",
    "# loc_files is the file name for plotting. \n",
    "loc_files = []\n",
    "for i in range(len(location_file_list)): \n",
    "    replace_res = location_file_list[i].replace(directory_in_str_locs, \"\")\n",
    "    replace_res = replace_res.replace(\"\\\\\", \"_\")\n",
    "    loc_files.append(replace_res)\n",
    "\n",
    "# Grid row and column\n",
    "GRID_ROWS = 100\n",
    "GRID_COLS = 100\n",
    "\n",
    "# Initialization continued\n",
    "ndata = len(location_file_list)\n",
    "#ndata = 100 # Test\n",
    "stationary_x_test = np.zeros((ndata,GRID_COLS,GRID_ROWS))\n",
    "\n",
    "stationary_y_test = np.zeros(ndata) # Zero = the model is stationary. One = nonstationary. \n",
    "\n",
    "# Initialization continued\n",
    "param_val_is_stat = 1;\n",
    "npzfilename = npzfilename_stationary;\n",
    "\n",
    "# Initialization continued\n",
    "npzfilename = npzfilename_nonstationary;\n",
    "\n",
    "# Initialization continued\n",
    "param_is_stat = np.ones(ndata)\n",
    "#param_samplenum.fill(param_val_samplenum)\n",
    "param_is_stat.fill(param_val_is_stat)\n",
    "\n",
    "param_list = []\n",
    "\n",
    "# Main program for data preprocessing\n",
    "for i_folder in tqdm(range(ndata)):\n",
    "    # Append the parameter to samples. \n",
    "    param_dict = {\n",
    "        \"sample\": i_folder,\n",
    "        \"is_stat\": param_val_is_stat\n",
    "    }\n",
    "    param_list.append(param_dict)\n",
    "    #==========\n",
    "    # Data extraction\n",
    "    #===========\n",
    "    # Get location and observation files for each subsample\n",
    "    loc_text = location_file_list[i_folder]\n",
    "    z_text = Z_file_list[i_folder]\n",
    "    # Load the location and z files\n",
    "    location_file = open(loc_text)\n",
    "    Z_value_file = open(z_text)\n",
    "#     print(location_file)\n",
    "    locations = np.loadtxt(location_file, delimiter=',')\n",
    "    Z_values = np.loadtxt(Z_value_file, delimiter=',')\n",
    "    #==========\n",
    "    # End of data extraction\n",
    "    #==========\n",
    "    # Compute the output grid\n",
    "    output_arr = np.zeros((GRID_ROWS,GRID_COLS))\n",
    "    grid_sum_arr = np.zeros((GRID_ROWS,GRID_COLS))\n",
    "    grid_div_arr = np.zeros((GRID_ROWS,GRID_COLS))\n",
    "    if manual_range_locs == False:\n",
    "        # Start and end locations (Auto)\n",
    "#         print(locations[:,0],locations[:,1])\n",
    "        startx = min(locations[:, 0])\n",
    "        starty = min(locations[:, 1])\n",
    "        endx = max(locations[:, 0])\n",
    "        endy = max(locations[:, 1])\n",
    "#     print(locations)\n",
    "    locations[:,0] = (locations[:, 0] - startx)/(endx - startx)\n",
    "    locations[:,1] = (locations[:, 1] - starty)/(endy - starty)\n",
    "#     print(locations)\n",
    "    \n",
    "    X = np.linspace(0, 1,GRID_COLS)\n",
    "    Y = np.linspace(0, 1,GRID_ROWS)\n",
    "    X, Y = np.meshgrid(X, Y)  # 2D grid for interpolation\n",
    "    interp = NearestNDInterpolator(locations, Z_values)\n",
    "    Z = interp(X, Y)\n",
    "#     break\n",
    "#     # Get the summation and division\n",
    "#     for j in range(locations.shape[0]):\n",
    "#         # Get the grid locations (x, y). Result: [y][x], because x is column (x=0 is the first column). \n",
    "#         x = int(math.floor((locations[j][0] - startx) * GRID_COLS / (endx - startx)))\n",
    "#         y = int(math.floor((locations[j][1] - starty) * GRID_ROWS / (endy - starty)))\n",
    "#         # For boundary value problems\n",
    "#         x = min(x, GRID_COLS - 1)\n",
    "#         y = min(y, GRID_ROWS - 1)\n",
    "#         val = Z_values[j]\n",
    "#         # Add the summation and division\n",
    "#         grid_sum_arr[y][x] = grid_sum_arr[y][x] + val\n",
    "#         grid_div_arr[y][x] += 1\n",
    "#     # Generate output\n",
    "#     for j1 in range(GRID_ROWS):\n",
    "#         for j2 in range(GRID_COLS):\n",
    "#             if grid_div_arr[j1][j2] > 0:\n",
    "#                 # Mean value in a cell\n",
    "#                 output_arr[j1][j2] += (grid_sum_arr[j1][j2] / grid_div_arr[j1][j2])\n",
    "#             else:\n",
    "#                 # Mean value over all regions if the cell has no locations\n",
    "#                 output_arr[j1][j2] += np.mean(Z_values)\n",
    "    if manual_range_z == False:\n",
    "        # Normalize (Auto)\n",
    "        m = np.min(Z)\n",
    "        M = np.max(Z)\n",
    "    if m == M:\n",
    "        output_arr = np.ones((GRID_ROWS,GRID_COLS)) * 0.5 # All 0.5\n",
    "    else: \n",
    "        # Range from 0 to 1. \n",
    "        Z = (Z - m) / (M - m)\n",
    "    # Save results\n",
    "    stationary_x_test[i_folder] = Z"
   ]
  },
  {
   "cell_type": "code",
   "execution_count": 69,
   "id": "ea1f61cb",
   "metadata": {},
   "outputs": [
    {
     "data": {
      "text/plain": [
       "'real_data/Z_0.csv'"
      ]
     },
     "execution_count": 69,
     "metadata": {},
     "output_type": "execute_result"
    }
   ],
   "source": [
    "# sns.heatmap( stationary_x_test[0] , linewidth=0)\n",
    "Z_file_list[1]"
   ]
  },
  {
   "cell_type": "code",
   "execution_count": 70,
   "id": "e0c06a1a",
   "metadata": {},
   "outputs": [
    {
     "data": {
      "text/plain": [
       "(5, 100, 100)"
      ]
     },
     "execution_count": 70,
     "metadata": {},
     "output_type": "execute_result"
    }
   ],
   "source": [
    "stationary_x_test.shape"
   ]
  },
  {
   "cell_type": "code",
   "execution_count": 71,
   "id": "e6e2cd0d",
   "metadata": {},
   "outputs": [],
   "source": [
    "stationary_x_test = stationary_x_test.reshape(5,100,100,1)"
   ]
  },
  {
   "cell_type": "code",
   "execution_count": 52,
   "id": "b5e0eac5",
   "metadata": {
    "id": "b5e0eac5"
   },
   "outputs": [],
   "source": [
    "testing_x = x_test\n",
    "testing_y = y_test"
   ]
  },
  {
   "cell_type": "code",
   "execution_count": 73,
   "id": "7a23d789",
   "metadata": {
    "id": "7a23d789"
   },
   "outputs": [],
   "source": [
    "# Label for histogram about training and testing data. \n",
    "training_label = \"Pratik\"\n",
    "test_label = \"Pratik\""
   ]
  },
  {
   "cell_type": "code",
   "execution_count": 74,
   "id": "650d215c",
   "metadata": {
    "id": "650d215c"
   },
   "outputs": [],
   "source": [
    "# # Testing - probability of stationarity\n",
    "# test_input = testing_x\n",
    "# prediction = model.predict(test_input)\n",
    "# test_accuracy.reset_state()\n",
    "# tacc = test_accuracy(testing_y,prediction)"
   ]
  },
  {
   "cell_type": "code",
   "execution_count": 71,
   "id": "61284c0b",
   "metadata": {
    "id": "61284c0b"
   },
   "outputs": [],
   "source": [
    "prediction = model.predict(x_test)\n",
    "# probabilities = tf.keras.activations.softmax (tf.convert_to_tensor(prediction))"
   ]
  },
  {
   "cell_type": "code",
   "execution_count": 102,
   "id": "8292ad9b",
   "metadata": {},
   "outputs": [
    {
     "data": {
      "text/plain": [
       "array([[9.9983513e-01, 1.6484289e-04],\n",
       "       [9.9994135e-01, 5.8668033e-05],\n",
       "       [9.9995279e-01, 4.7230002e-05],\n",
       "       ...,\n",
       "       [2.2351567e-04, 9.9977654e-01],\n",
       "       [1.4814673e-02, 9.8518538e-01],\n",
       "       [1.6031556e-05, 9.9998403e-01]], dtype=float32)"
      ]
     },
     "execution_count": 102,
     "metadata": {},
     "output_type": "execute_result"
    }
   ],
   "source": [
    "prediction"
   ]
  },
  {
   "cell_type": "code",
   "execution_count": 73,
   "id": "db70c527",
   "metadata": {},
   "outputs": [
    {
     "data": {
      "text/plain": [
       "array([[1., 0.],\n",
       "       [1., 0.],\n",
       "       [1., 0.],\n",
       "       ...,\n",
       "       [0., 1.],\n",
       "       [0., 1.],\n",
       "       [0., 1.]], dtype=float32)"
      ]
     },
     "execution_count": 73,
     "metadata": {},
     "output_type": "execute_result"
    }
   ],
   "source": [
    "y_test"
   ]
  },
  {
   "cell_type": "code",
   "execution_count": 93,
   "id": "1c76784b",
   "metadata": {
    "id": "1c76784b"
   },
   "outputs": [],
   "source": [
    "probnonstat_all = np.array(prediction[:, 1])"
   ]
  },
  {
   "cell_type": "code",
   "execution_count": 94,
   "id": "9a822afc",
   "metadata": {},
   "outputs": [
    {
     "data": {
      "text/plain": [
       "(1989, 2)"
      ]
     },
     "execution_count": 94,
     "metadata": {},
     "output_type": "execute_result"
    }
   ],
   "source": [
    "y_test.shape"
   ]
  },
  {
   "cell_type": "code",
   "execution_count": 95,
   "id": "4323aacc",
   "metadata": {
    "id": "4323aacc"
   },
   "outputs": [],
   "source": [
    "probnonstat_stationary = probnonstat_all[np.where(y_test[:,1]==0)]\n",
    "probnonstat_nonstationary = probnonstat_all[np.where(y_test[:,1]==1)]"
   ]
  },
  {
   "cell_type": "code",
   "execution_count": 58,
   "id": "ebfb8e18",
   "metadata": {},
   "outputs": [
    {
     "ename": "NameError",
     "evalue": "name 'pd' is not defined",
     "output_type": "error",
     "traceback": [
      "\u001b[0;31m---------------------------------------------------------------------------\u001b[0m",
      "\u001b[0;31mNameError\u001b[0m                                 Traceback (most recent call last)",
      "\u001b[0;32m/tmp/ipykernel_53425/1968754911.py\u001b[0m in \u001b[0;36m<module>\u001b[0;34m\u001b[0m\n\u001b[0;32m----> 1\u001b[0;31m \u001b[0mdf\u001b[0m \u001b[0;34m=\u001b[0m \u001b[0mpd\u001b[0m\u001b[0;34m.\u001b[0m\u001b[0mDataFrame\u001b[0m\u001b[0;34m(\u001b[0m\u001b[0;34m)\u001b[0m\u001b[0;34m\u001b[0m\u001b[0;34m\u001b[0m\u001b[0m\n\u001b[0m\u001b[1;32m      2\u001b[0m \u001b[0;34m\u001b[0m\u001b[0m\n\u001b[1;32m      3\u001b[0m \u001b[0mdf\u001b[0m\u001b[0;34m[\u001b[0m\u001b[0;34m\"stationary_probability\"\u001b[0m\u001b[0;34m]\u001b[0m \u001b[0;34m=\u001b[0m \u001b[0mprobnonstat_stationary\u001b[0m\u001b[0;34m\u001b[0m\u001b[0;34m\u001b[0m\u001b[0m\n\u001b[1;32m      4\u001b[0m \u001b[0mdf\u001b[0m\u001b[0;34m.\u001b[0m\u001b[0mto_csv\u001b[0m\u001b[0;34m(\u001b[0m\u001b[0;34m\"stationary_probability.csv\"\u001b[0m\u001b[0;34m,\u001b[0m\u001b[0mindex\u001b[0m\u001b[0;34m=\u001b[0m\u001b[0;32mFalse\u001b[0m\u001b[0;34m)\u001b[0m\u001b[0;34m\u001b[0m\u001b[0;34m\u001b[0m\u001b[0m\n",
      "\u001b[0;31mNameError\u001b[0m: name 'pd' is not defined"
     ]
    }
   ],
   "source": [
    "# df = pd.DataFrame()\n",
    "\n",
    "# df[\"stationary_probability\"] = probnonstat_stationary\n",
    "# df.to_csv(\"stationary_probability.csv\",index=False)"
   ]
  },
  {
   "cell_type": "code",
   "execution_count": 88,
   "id": "aaac0a8f",
   "metadata": {},
   "outputs": [
    {
     "data": {
      "text/plain": [
       "array([0., 0., 0., ..., 1., 1., 1.], dtype=float32)"
      ]
     },
     "execution_count": 88,
     "metadata": {},
     "output_type": "execute_result"
    }
   ],
   "source": [
    "y_test[:,1]"
   ]
  },
  {
   "cell_type": "markdown",
   "id": "0018f6b8",
   "metadata": {
    "id": "0018f6b8"
   },
   "source": [
    "# Histogram of the stationarity index "
   ]
  },
  {
   "cell_type": "code",
   "execution_count": 100,
   "id": "6f743f25",
   "metadata": {
    "id": "6f743f25",
    "outputId": "cb88ab7f-684c-4861-e0a2-afd89f797644"
   },
   "outputs": [
    {
     "data": {
      "image/png": "[encoded data removed]",
      "text/plain": [
       "<Figure size 720x576 with 1 Axes>"
      ]
     },
     "metadata": {
      "needs_background": "light"
     },
     "output_type": "display_data"
    }
   ],
   "source": [
    "# Histogram of stationarity index (probability that the data is stationary), for stationary testing data. \n",
    "plt.figure(figsize=(10,8))\n",
    "plt.title(\"Histogram for nonstationary index when data is stationary\", fontsize=18)\n",
    "plt.xlabel(\"Probability of nonstationary\", fontsize=18)\n",
    "plt.ylabel(\"Frequency\", fontsize=18)\n",
    "plt.hist(probnonstat_stationary)\n",
    "plt.savefig(\"stationary_prob.pdf\")"
   ]
  },
  {
   "cell_type": "code",
   "execution_count": 101,
   "id": "d6c80f66",
   "metadata": {
    "id": "d6c80f66",
    "outputId": "a0e8117a-c7cc-4cdb-f0b6-624c3f2e8482"
   },
   "outputs": [
    {
     "data": {
      "image/png": "[encoded data removed]",
      "text/plain": [
       "<Figure size 720x576 with 1 Axes>"
      ]
     },
     "metadata": {
      "needs_background": "light"
     },
     "output_type": "display_data"
    }
   ],
   "source": [
    "# Histogram of stationarity index (probability that the data is stationary), for nonstatoinary testing data. \n",
    "plt.figure(figsize=(10,8))\n",
    "plt.title(\"Histogram for nonstationary index when data is stationary\", fontsize=18)\n",
    "plt.xlabel(\"Probability of nonstationary\", fontsize=18)\n",
    "plt.ylabel(\"Frequency\", fontsize=18)\n",
    "plt.hist(probnonstat_nonstationary)\n",
    "plt.savefig(\"nonstationary_prob.pdf\")"
   ]
  },
  {
   "cell_type": "markdown",
   "id": "2ce7e137",
   "metadata": {
    "id": "2ce7e137"
   },
   "source": [
    "# Outline of classification results for test data"
   ]
  },
  {
   "cell_type": "code",
   "execution_count": null,
   "id": "f2bc09c7",
   "metadata": {
    "id": "f2bc09c7"
   },
   "outputs": [],
   "source": [
    "# Result of correct determination\n",
    "prediction_labels = tf.argmax(prediction , 1).numpy()"
   ]
  },
  {
   "cell_type": "code",
   "execution_count": null,
   "id": "bd2f9b64",
   "metadata": {
    "id": "bd2f9b64",
    "outputId": "94df4053-de1a-47ee-d184-9d6605784955"
   },
   "outputs": [
    {
     "name": "stdout",
     "output_type": "stream",
     "text": [
      "TN =  601\n",
      "TP =  152\n",
      "FN =  0\n",
      "FP =  4\n"
     ]
    }
   ],
   "source": [
    "conf_matrix = tf.math.confusion_matrix(tf.convert_to_tensor(testing_y) , tf.convert_to_tensor(prediction_labels))\n",
    "#print(conf_matrix_pratik)\n",
    "\n",
    "# Identifying the type of error (Type I or Type II) \n",
    "\n",
    "true_negatives = conf_matrix[0][0].numpy()\n",
    "true_positives = conf_matrix[1][1].numpy()\n",
    "false_negatives = conf_matrix[1][0].numpy()\n",
    "false_positives = conf_matrix[0][1].numpy()\n",
    "\n",
    "tf.print(\"TN = \" , true_negatives) # Negative = stationary\n",
    "tf.print(\"TP = \" , true_positives) # Positive = nonstationary\n",
    "tf.print(\"FN = \" , false_negatives)\n",
    "tf.print(\"FP = \" , false_positives)"
   ]
  },
  {
   "cell_type": "code",
   "execution_count": null,
   "id": "d8ef2de2",
   "metadata": {
    "id": "d8ef2de2",
    "outputId": "d68623fe-c3c1-4951-9801-042453358979"
   },
   "outputs": [
    {
     "name": "stdout",
     "output_type": "stream",
     "text": [
      "Number of stationary testing samples:  605 ; of which correct identifications: 601\n",
      "Correct stationary =  0.9933884297520661\n",
      "Number of nonstationary testing samples:  152 ; of which correct identifications: 152\n",
      "Correct nonstationary =  1.0\n"
     ]
    }
   ],
   "source": [
    "correct_stationary = true_negatives / (true_negatives + false_positives)\n",
    "correct_nonstationary = true_positives / (true_positives + false_negatives)\n",
    "print(\"Number of stationary testing samples: \", true_negatives + false_positives, \"; of which correct identifications:\", true_negatives)\n",
    "print(\"Correct stationary = \", correct_stationary)\n",
    "print(\"Number of nonstationary testing samples: \", true_positives + false_negatives, \"; of which correct identifications:\", true_positives)\n",
    "print(\"Correct nonstationary = \", correct_nonstationary)"
   ]
  },
  {
   "cell_type": "code",
   "execution_count": null,
   "id": "dd2f39b9",
   "metadata": {
    "id": "dd2f39b9"
   },
   "outputs": [],
   "source": []
  }
 ],
 "metadata": {
  "colab": {
   "name": "CNN_model_0418_Resampling.ipynb",
   "provenance": []
  },
  "kernelspec": {
   "display_name": "Python 3 (ipykernel)",
   "language": "python",
   "name": "python3"
  },
  "language_info": {
   "codemirror_mode": {
    "name": "ipython",
    "version": 3
   },
   "file_extension": ".py",
   "mimetype": "text/x-python",
   "name": "python",
   "nbconvert_exporter": "python",
   "pygments_lexer": "ipython3",
   "version": "3.8.12"
  }
 },
 "nbformat": 4,
 "nbformat_minor": 5
}
